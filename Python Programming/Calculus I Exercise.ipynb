{
 "cells": [
  {
   "cell_type": "markdown",
   "source": [
    "Exercises:\n",
    "\n",
    "Evaluate the limits below using techniques from the slides or above.\n",
    "\n",
    "1. lim x->0 (((x**2) - 1) / (x - 1))\n",
    "2. lim x->5 (((x**2) - 25) / (x + 5))\n",
    "3. lim x->4 (((x**2) - 2*x - 8) / (x - 4))\n",
    "4. lim x->inf (25/x)\n",
    "5. lim x->0 (25/x)\n",
    "\n",
    "FYI while not necessary for ML nor for this ML Foundations curriculum, the SymPy symbolic mathematics library includes a limits() method. You can read about applying it to evaluate limits of expressions here."
   ],
   "metadata": {
    "collapsed": false
   }
  },
  {
   "cell_type": "code",
   "execution_count": 79,
   "outputs": [],
   "source": [
    "import numpy as np\n",
    "import matplotlib.pyplot as plt\n",
    "import sympy\n",
    "\n",
    "x = np.linspace(-100, 100, 1000)"
   ],
   "metadata": {
    "collapsed": false,
    "ExecuteTime": {
     "start_time": "2023-04-21T05:14:58.046538Z",
     "end_time": "2023-04-21T05:14:58.067831Z"
    }
   }
  },
  {
   "cell_type": "code",
   "execution_count": 2,
   "outputs": [],
   "source": [
    "# Ans 1\n",
    "def ans1(my_x):\n",
    "    my_y = ((my_x**2) - 1) / (my_x - 1)\n",
    "    return my_y"
   ],
   "metadata": {
    "collapsed": false,
    "ExecuteTime": {
     "start_time": "2023-04-21T04:56:02.553986Z",
     "end_time": "2023-04-21T04:56:02.563654Z"
    }
   }
  },
  {
   "cell_type": "code",
   "execution_count": 3,
   "outputs": [],
   "source": [
    "y1 = ans1(x)"
   ],
   "metadata": {
    "collapsed": false,
    "ExecuteTime": {
     "start_time": "2023-04-21T04:56:02.566649Z",
     "end_time": "2023-04-21T04:56:02.608576Z"
    }
   }
  },
  {
   "cell_type": "code",
   "execution_count": 4,
   "outputs": [
    {
     "data": {
      "text/plain": "2.009999999999999"
     },
     "execution_count": 4,
     "metadata": {},
     "output_type": "execute_result"
    }
   ],
   "source": [
    "ans1(1.01)"
   ],
   "metadata": {
    "collapsed": false,
    "ExecuteTime": {
     "start_time": "2023-04-21T04:56:02.582506Z",
     "end_time": "2023-04-21T04:56:02.619119Z"
    }
   }
  },
  {
   "cell_type": "code",
   "execution_count": 5,
   "outputs": [
    {
     "data": {
      "text/plain": "2.0000100000008274"
     },
     "execution_count": 5,
     "metadata": {},
     "output_type": "execute_result"
    }
   ],
   "source": [
    "ans1(1.00001)"
   ],
   "metadata": {
    "collapsed": false,
    "ExecuteTime": {
     "start_time": "2023-04-21T04:56:02.602571Z",
     "end_time": "2023-04-21T04:56:02.620315Z"
    }
   }
  },
  {
   "cell_type": "code",
   "execution_count": 6,
   "outputs": [
    {
     "data": {
      "text/plain": "1.990000000000001"
     },
     "execution_count": 6,
     "metadata": {},
     "output_type": "execute_result"
    }
   ],
   "source": [
    "ans1(0.99)"
   ],
   "metadata": {
    "collapsed": false,
    "ExecuteTime": {
     "start_time": "2023-04-21T04:56:02.614101Z",
     "end_time": "2023-04-21T04:56:02.637870Z"
    }
   }
  },
  {
   "cell_type": "code",
   "execution_count": 7,
   "outputs": [
    {
     "data": {
      "text/plain": "1.9999899999991726"
     },
     "execution_count": 7,
     "metadata": {},
     "output_type": "execute_result"
    }
   ],
   "source": [
    "ans1(0.99999)"
   ],
   "metadata": {
    "collapsed": false,
    "ExecuteTime": {
     "start_time": "2023-04-21T04:56:02.643400Z",
     "end_time": "2023-04-21T04:56:02.734840Z"
    }
   }
  },
  {
   "cell_type": "code",
   "execution_count": 8,
   "outputs": [],
   "source": [
    "# ans1(1)"
   ],
   "metadata": {
    "collapsed": false,
    "ExecuteTime": {
     "start_time": "2023-04-21T04:56:02.660464Z",
     "end_time": "2023-04-21T04:56:02.735842Z"
    }
   }
  },
  {
   "cell_type": "code",
   "execution_count": 9,
   "outputs": [
    {
     "data": {
      "text/plain": "<Figure size 640x480 with 1 Axes>",
      "image/png": "[encoded data removed]"
     },
     "metadata": {},
     "output_type": "display_data"
    }
   ],
   "source": [
    "fig, ax = plt.subplots()\n",
    "plt.axvline(x=0, c='lightgray')\n",
    "plt.axhline(y=0, c='lightgray')\n",
    "plt.xlim(-1,3)\n",
    "plt.ylim(-1,5)\n",
    "plt.axvline(x=1, c='purple', linestyle='--')\n",
    "plt.axhline(y=2, c='purple', linestyle='--')\n",
    "_ = ax.plot(x,y1)"
   ],
   "metadata": {
    "collapsed": false,
    "ExecuteTime": {
     "start_time": "2023-04-21T04:56:02.674016Z",
     "end_time": "2023-04-21T04:56:02.940155Z"
    }
   }
  },
  {
   "cell_type": "code",
   "execution_count": 10,
   "outputs": [],
   "source": [
    "def ans2(my_x):\n",
    "    my_y = ((my_x**2) - 25) / (my_x + 5)\n",
    "    return my_y"
   ],
   "metadata": {
    "collapsed": false,
    "ExecuteTime": {
     "start_time": "2023-04-21T04:56:02.943170Z",
     "end_time": "2023-04-21T04:56:02.953712Z"
    }
   }
  },
  {
   "cell_type": "code",
   "execution_count": 11,
   "outputs": [],
   "source": [
    "y2 = ans2(x)"
   ],
   "metadata": {
    "collapsed": false,
    "ExecuteTime": {
     "start_time": "2023-04-21T04:56:02.956713Z",
     "end_time": "2023-04-21T04:56:03.046347Z"
    }
   }
  },
  {
   "cell_type": "code",
   "execution_count": 12,
   "outputs": [],
   "source": [
    "# ans2(-5)"
   ],
   "metadata": {
    "collapsed": false,
    "ExecuteTime": {
     "start_time": "2023-04-21T04:56:02.971288Z",
     "end_time": "2023-04-21T04:56:03.046347Z"
    }
   }
  },
  {
   "cell_type": "code",
   "execution_count": 13,
   "outputs": [
    {
     "data": {
      "text/plain": "-9.899999999999984"
     },
     "execution_count": 13,
     "metadata": {},
     "output_type": "execute_result"
    }
   ],
   "source": [
    "ans2(-4.9)"
   ],
   "metadata": {
    "collapsed": false,
    "ExecuteTime": {
     "start_time": "2023-04-21T04:56:02.987674Z",
     "end_time": "2023-04-21T04:56:03.047351Z"
    }
   }
  },
  {
   "cell_type": "code",
   "execution_count": 14,
   "outputs": [
    {
     "data": {
      "text/plain": "-9.999999911182158"
     },
     "execution_count": 14,
     "metadata": {},
     "output_type": "execute_result"
    }
   ],
   "source": [
    "ans2(-4.9999999)"
   ],
   "metadata": {
    "collapsed": false,
    "ExecuteTime": {
     "start_time": "2023-04-21T04:56:03.007762Z",
     "end_time": "2023-04-21T04:56:03.047351Z"
    }
   }
  },
  {
   "cell_type": "code",
   "execution_count": 15,
   "outputs": [
    {
     "data": {
      "text/plain": "-10.009999999999977"
     },
     "execution_count": 15,
     "metadata": {},
     "output_type": "execute_result"
    }
   ],
   "source": [
    "ans2(-5.01)"
   ],
   "metadata": {
    "collapsed": false,
    "ExecuteTime": {
     "start_time": "2023-04-21T04:56:03.033141Z",
     "end_time": "2023-04-21T04:56:03.048351Z"
    }
   }
  },
  {
   "cell_type": "code",
   "execution_count": 16,
   "outputs": [
    {
     "data": {
      "text/plain": "-10.000000088817842"
     },
     "execution_count": 16,
     "metadata": {},
     "output_type": "execute_result"
    }
   ],
   "source": [
    "ans2(-5.0000001)"
   ],
   "metadata": {
    "collapsed": false,
    "ExecuteTime": {
     "start_time": "2023-04-21T04:56:03.040352Z",
     "end_time": "2023-04-21T04:56:03.048351Z"
    }
   }
  },
  {
   "cell_type": "code",
   "execution_count": 17,
   "outputs": [
    {
     "data": {
      "text/plain": "<Figure size 640x480 with 1 Axes>",
      "image/png": "[encoded data removed]"
     },
     "metadata": {},
     "output_type": "display_data"
    }
   ],
   "source": [
    "fig, ax = plt.subplots()\n",
    "plt.axvline(x=0, c='lightgray')\n",
    "plt.axhline(y=0, c='lightgray')\n",
    "plt.xlim(-8,1)\n",
    "plt.ylim(1,-15)\n",
    "plt.axvline(x=-5, c='purple', linestyle='--')\n",
    "plt.axhline(y=-10, c='purple', linestyle='--')\n",
    "_ = ax.plot(x,y2)"
   ],
   "metadata": {
    "collapsed": false,
    "ExecuteTime": {
     "start_time": "2023-04-21T04:56:03.054882Z",
     "end_time": "2023-04-21T04:56:03.283123Z"
    }
   }
  },
  {
   "cell_type": "code",
   "execution_count": 18,
   "outputs": [],
   "source": [
    "def ans3(my_x):\n",
    "    my_y = ((my_x**2) - 2*my_x - 8) / (my_x - 4)\n",
    "    return my_y"
   ],
   "metadata": {
    "collapsed": false,
    "ExecuteTime": {
     "start_time": "2023-04-21T04:56:03.286133Z",
     "end_time": "2023-04-21T04:56:03.367831Z"
    }
   }
  },
  {
   "cell_type": "code",
   "execution_count": 19,
   "outputs": [],
   "source": [
    "y3 = ans3(x)"
   ],
   "metadata": {
    "collapsed": false,
    "ExecuteTime": {
     "start_time": "2023-04-21T04:56:03.302241Z",
     "end_time": "2023-04-21T04:56:03.367831Z"
    }
   }
  },
  {
   "cell_type": "code",
   "execution_count": 20,
   "outputs": [
    {
     "data": {
      "text/plain": "5.999899999991726"
     },
     "execution_count": 20,
     "metadata": {},
     "output_type": "execute_result"
    }
   ],
   "source": [
    "ans3(3.9999)"
   ],
   "metadata": {
    "collapsed": false,
    "ExecuteTime": {
     "start_time": "2023-04-21T04:56:03.315300Z",
     "end_time": "2023-04-21T04:56:03.369342Z"
    }
   }
  },
  {
   "cell_type": "code",
   "execution_count": 21,
   "outputs": [
    {
     "data": {
      "text/plain": "6.000100000008274"
     },
     "execution_count": 21,
     "metadata": {},
     "output_type": "execute_result"
    }
   ],
   "source": [
    "ans3(4.0001)"
   ],
   "metadata": {
    "collapsed": false,
    "ExecuteTime": {
     "start_time": "2023-04-21T04:56:03.335018Z",
     "end_time": "2023-04-21T04:56:03.369342Z"
    }
   }
  },
  {
   "cell_type": "code",
   "execution_count": 22,
   "outputs": [],
   "source": [
    "# ans3(4)"
   ],
   "metadata": {
    "collapsed": false,
    "ExecuteTime": {
     "start_time": "2023-04-21T04:56:03.348530Z",
     "end_time": "2023-04-21T04:56:03.370360Z"
    }
   }
  },
  {
   "cell_type": "code",
   "execution_count": 23,
   "outputs": [
    {
     "data": {
      "text/plain": "<Figure size 640x480 with 1 Axes>",
      "image/png": "[encoded data removed]"
     },
     "metadata": {},
     "output_type": "display_data"
    }
   ],
   "source": [
    "fig, ax = plt.subplots()\n",
    "plt.axvline(x=0, c='lightgray')\n",
    "plt.axhline(y=0, c='lightgray')\n",
    "plt.xlim(-1,9)\n",
    "plt.ylim(-1,10)\n",
    "plt.axvline(x=4, c='purple', linestyle='--')\n",
    "plt.axhline(y=6, c='purple', linestyle='--')\n",
    "_ = ax.plot(x,y3)"
   ],
   "metadata": {
    "collapsed": false,
    "ExecuteTime": {
     "start_time": "2023-04-21T04:56:03.363827Z",
     "end_time": "2023-04-21T04:56:03.635279Z"
    }
   }
  },
  {
   "cell_type": "code",
   "execution_count": 80,
   "outputs": [],
   "source": [
    "def ans4(my_x):\n",
    "    my_y = 25/my_x\n",
    "    return my_y"
   ],
   "metadata": {
    "collapsed": false,
    "ExecuteTime": {
     "start_time": "2023-04-21T05:15:09.638716Z",
     "end_time": "2023-04-21T05:15:09.655766Z"
    }
   }
  },
  {
   "cell_type": "code",
   "execution_count": 87,
   "outputs": [
    {
     "data": {
      "text/plain": "array([-100.        ,  -99.7997998 ,  -99.5995996 ,  -99.3993994 ,\n        -99.1991992 ,  -98.998999  ,  -98.7987988 ,  -98.5985986 ,\n        -98.3983984 ,  -98.1981982 ,  -97.997998  ,  -97.7977978 ,\n        -97.5975976 ,  -97.3973974 ,  -97.1971972 ,  -96.996997  ,\n        -96.7967968 ,  -96.5965966 ,  -96.3963964 ,  -96.1961962 ,\n        -95.995996  ,  -95.7957958 ,  -95.5955956 ,  -95.3953954 ,\n        -95.1951952 ,  -94.99499499,  -94.79479479,  -94.59459459,\n        -94.39439439,  -94.19419419,  -93.99399399,  -93.79379379,\n        -93.59359359,  -93.39339339,  -93.19319319,  -92.99299299,\n        -92.79279279,  -92.59259259,  -92.39239239,  -92.19219219,\n        -91.99199199,  -91.79179179,  -91.59159159,  -91.39139139,\n        -91.19119119,  -90.99099099,  -90.79079079,  -90.59059059,\n        -90.39039039,  -90.19019019,  -89.98998999,  -89.78978979,\n        -89.58958959,  -89.38938939,  -89.18918919,  -88.98898899,\n        -88.78878879,  -88.58858859,  -88.38838839,  -88.18818819,\n        -87.98798799,  -87.78778779,  -87.58758759,  -87.38738739,\n        -87.18718719,  -86.98698699,  -86.78678679,  -86.58658659,\n        -86.38638639,  -86.18618619,  -85.98598599,  -85.78578579,\n        -85.58558559,  -85.38538539,  -85.18518519,  -84.98498498,\n        -84.78478478,  -84.58458458,  -84.38438438,  -84.18418418,\n        -83.98398398,  -83.78378378,  -83.58358358,  -83.38338338,\n        -83.18318318,  -82.98298298,  -82.78278278,  -82.58258258,\n        -82.38238238,  -82.18218218,  -81.98198198,  -81.78178178,\n        -81.58158158,  -81.38138138,  -81.18118118,  -80.98098098,\n        -80.78078078,  -80.58058058,  -80.38038038,  -80.18018018,\n        -79.97997998,  -79.77977978,  -79.57957958,  -79.37937938,\n        -79.17917918,  -78.97897898,  -78.77877878,  -78.57857858,\n        -78.37837838,  -78.17817818,  -77.97797798,  -77.77777778,\n        -77.57757758,  -77.37737738,  -77.17717718,  -76.97697698,\n        -76.77677678,  -76.57657658,  -76.37637638,  -76.17617618,\n        -75.97597598,  -75.77577578,  -75.57557558,  -75.37537538,\n        -75.17517518,  -74.97497497,  -74.77477477,  -74.57457457,\n        -74.37437437,  -74.17417417,  -73.97397397,  -73.77377377,\n        -73.57357357,  -73.37337337,  -73.17317317,  -72.97297297,\n        -72.77277277,  -72.57257257,  -72.37237237,  -72.17217217,\n        -71.97197197,  -71.77177177,  -71.57157157,  -71.37137137,\n        -71.17117117,  -70.97097097,  -70.77077077,  -70.57057057,\n        -70.37037037,  -70.17017017,  -69.96996997,  -69.76976977,\n        -69.56956957,  -69.36936937,  -69.16916917,  -68.96896897,\n        -68.76876877,  -68.56856857,  -68.36836837,  -68.16816817,\n        -67.96796797,  -67.76776777,  -67.56756757,  -67.36736737,\n        -67.16716717,  -66.96696697,  -66.76676677,  -66.56656657,\n        -66.36636637,  -66.16616617,  -65.96596597,  -65.76576577,\n        -65.56556557,  -65.36536537,  -65.16516517,  -64.96496496,\n        -64.76476476,  -64.56456456,  -64.36436436,  -64.16416416,\n        -63.96396396,  -63.76376376,  -63.56356356,  -63.36336336,\n        -63.16316316,  -62.96296296,  -62.76276276,  -62.56256256,\n        -62.36236236,  -62.16216216,  -61.96196196,  -61.76176176,\n        -61.56156156,  -61.36136136,  -61.16116116,  -60.96096096,\n        -60.76076076,  -60.56056056,  -60.36036036,  -60.16016016,\n        -59.95995996,  -59.75975976,  -59.55955956,  -59.35935936,\n        -59.15915916,  -58.95895896,  -58.75875876,  -58.55855856,\n        -58.35835836,  -58.15815816,  -57.95795796,  -57.75775776,\n        -57.55755756,  -57.35735736,  -57.15715716,  -56.95695696,\n        -56.75675676,  -56.55655656,  -56.35635636,  -56.15615616,\n        -55.95595596,  -55.75575576,  -55.55555556,  -55.35535536,\n        -55.15515516,  -54.95495495,  -54.75475475,  -54.55455455,\n        -54.35435435,  -54.15415415,  -53.95395395,  -53.75375375,\n        -53.55355355,  -53.35335335,  -53.15315315,  -52.95295295,\n        -52.75275275,  -52.55255255,  -52.35235235,  -52.15215215,\n        -51.95195195,  -51.75175175,  -51.55155155,  -51.35135135,\n        -51.15115115,  -50.95095095,  -50.75075075,  -50.55055055,\n        -50.35035035,  -50.15015015,  -49.94994995,  -49.74974975,\n        -49.54954955,  -49.34934935,  -49.14914915,  -48.94894895,\n        -48.74874875,  -48.54854855,  -48.34834835,  -48.14814815,\n        -47.94794795,  -47.74774775,  -47.54754755,  -47.34734735,\n        -47.14714715,  -46.94694695,  -46.74674675,  -46.54654655,\n        -46.34634635,  -46.14614615,  -45.94594595,  -45.74574575,\n        -45.54554555,  -45.34534535,  -45.14514515,  -44.94494494,\n        -44.74474474,  -44.54454454,  -44.34434434,  -44.14414414,\n        -43.94394394,  -43.74374374,  -43.54354354,  -43.34334334,\n        -43.14314314,  -42.94294294,  -42.74274274,  -42.54254254,\n        -42.34234234,  -42.14214214,  -41.94194194,  -41.74174174,\n        -41.54154154,  -41.34134134,  -41.14114114,  -40.94094094,\n        -40.74074074,  -40.54054054,  -40.34034034,  -40.14014014,\n        -39.93993994,  -39.73973974,  -39.53953954,  -39.33933934,\n        -39.13913914,  -38.93893894,  -38.73873874,  -38.53853854,\n        -38.33833834,  -38.13813814,  -37.93793794,  -37.73773774,\n        -37.53753754,  -37.33733734,  -37.13713714,  -36.93693694,\n        -36.73673674,  -36.53653654,  -36.33633634,  -36.13613614,\n        -35.93593594,  -35.73573574,  -35.53553554,  -35.33533534,\n        -35.13513514,  -34.93493493,  -34.73473473,  -34.53453453,\n        -34.33433433,  -34.13413413,  -33.93393393,  -33.73373373,\n        -33.53353353,  -33.33333333,  -33.13313313,  -32.93293293,\n        -32.73273273,  -32.53253253,  -32.33233233,  -32.13213213,\n        -31.93193193,  -31.73173173,  -31.53153153,  -31.33133133,\n        -31.13113113,  -30.93093093,  -30.73073073,  -30.53053053,\n        -30.33033033,  -30.13013013,  -29.92992993,  -29.72972973,\n        -29.52952953,  -29.32932933,  -29.12912913,  -28.92892893,\n        -28.72872873,  -28.52852853,  -28.32832833,  -28.12812813,\n        -27.92792793,  -27.72772773,  -27.52752753,  -27.32732733,\n        -27.12712713,  -26.92692693,  -26.72672673,  -26.52652653,\n        -26.32632633,  -26.12612613,  -25.92592593,  -25.72572573,\n        -25.52552553,  -25.32532533,  -25.12512513,  -24.92492492,\n        -24.72472472,  -24.52452452,  -24.32432432,  -24.12412412,\n        -23.92392392,  -23.72372372,  -23.52352352,  -23.32332332,\n        -23.12312312,  -22.92292292,  -22.72272272,  -22.52252252,\n        -22.32232232,  -22.12212212,  -21.92192192,  -21.72172172,\n        -21.52152152,  -21.32132132,  -21.12112112,  -20.92092092,\n        -20.72072072,  -20.52052052,  -20.32032032,  -20.12012012,\n        -19.91991992,  -19.71971972,  -19.51951952,  -19.31931932,\n        -19.11911912,  -18.91891892,  -18.71871872,  -18.51851852,\n        -18.31831832,  -18.11811812,  -17.91791792,  -17.71771772,\n        -17.51751752,  -17.31731732,  -17.11711712,  -16.91691692,\n        -16.71671672,  -16.51651652,  -16.31631632,  -16.11611612,\n        -15.91591592,  -15.71571572,  -15.51551552,  -15.31531532,\n        -15.11511512,  -14.91491491,  -14.71471471,  -14.51451451,\n        -14.31431431,  -14.11411411,  -13.91391391,  -13.71371371,\n        -13.51351351,  -13.31331331,  -13.11311311,  -12.91291291,\n        -12.71271271,  -12.51251251,  -12.31231231,  -12.11211211,\n        -11.91191191,  -11.71171171,  -11.51151151,  -11.31131131,\n        -11.11111111,  -10.91091091,  -10.71071071,  -10.51051051,\n        -10.31031031,  -10.11011011,   -9.90990991,   -9.70970971,\n         -9.50950951,   -9.30930931,   -9.10910911,   -8.90890891,\n         -8.70870871,   -8.50850851,   -8.30830831,   -8.10810811,\n         -7.90790791,   -7.70770771,   -7.50750751,   -7.30730731,\n         -7.10710711,   -6.90690691,   -6.70670671,   -6.50650651,\n         -6.30630631,   -6.10610611,   -5.90590591,   -5.70570571,\n         -5.50550551,   -5.30530531,   -5.10510511,   -4.9049049 ,\n         -4.7047047 ,   -4.5045045 ,   -4.3043043 ,   -4.1041041 ,\n         -3.9039039 ,   -3.7037037 ,   -3.5035035 ,   -3.3033033 ,\n         -3.1031031 ,   -2.9029029 ,   -2.7027027 ,   -2.5025025 ,\n         -2.3023023 ,   -2.1021021 ,   -1.9019019 ,   -1.7017017 ,\n         -1.5015015 ,   -1.3013013 ,   -1.1011011 ,   -0.9009009 ,\n         -0.7007007 ,   -0.5005005 ,   -0.3003003 ,   -0.1001001 ])"
     },
     "execution_count": 87,
     "metadata": {},
     "output_type": "execute_result"
    }
   ],
   "source": [
    "left_x = x[x<0]\n",
    "left_x"
   ],
   "metadata": {
    "collapsed": false,
    "ExecuteTime": {
     "start_time": "2023-04-21T05:16:21.164326Z",
     "end_time": "2023-04-21T05:16:21.189125Z"
    }
   }
  },
  {
   "cell_type": "code",
   "execution_count": 88,
   "outputs": [
    {
     "data": {
      "text/plain": "array([  0.1001001 ,   0.3003003 ,   0.5005005 ,   0.7007007 ,\n         0.9009009 ,   1.1011011 ,   1.3013013 ,   1.5015015 ,\n         1.7017017 ,   1.9019019 ,   2.1021021 ,   2.3023023 ,\n         2.5025025 ,   2.7027027 ,   2.9029029 ,   3.1031031 ,\n         3.3033033 ,   3.5035035 ,   3.7037037 ,   3.9039039 ,\n         4.1041041 ,   4.3043043 ,   4.5045045 ,   4.7047047 ,\n         4.9049049 ,   5.10510511,   5.30530531,   5.50550551,\n         5.70570571,   5.90590591,   6.10610611,   6.30630631,\n         6.50650651,   6.70670671,   6.90690691,   7.10710711,\n         7.30730731,   7.50750751,   7.70770771,   7.90790791,\n         8.10810811,   8.30830831,   8.50850851,   8.70870871,\n         8.90890891,   9.10910911,   9.30930931,   9.50950951,\n         9.70970971,   9.90990991,  10.11011011,  10.31031031,\n        10.51051051,  10.71071071,  10.91091091,  11.11111111,\n        11.31131131,  11.51151151,  11.71171171,  11.91191191,\n        12.11211211,  12.31231231,  12.51251251,  12.71271271,\n        12.91291291,  13.11311311,  13.31331331,  13.51351351,\n        13.71371371,  13.91391391,  14.11411411,  14.31431431,\n        14.51451451,  14.71471471,  14.91491491,  15.11511512,\n        15.31531532,  15.51551552,  15.71571572,  15.91591592,\n        16.11611612,  16.31631632,  16.51651652,  16.71671672,\n        16.91691692,  17.11711712,  17.31731732,  17.51751752,\n        17.71771772,  17.91791792,  18.11811812,  18.31831832,\n        18.51851852,  18.71871872,  18.91891892,  19.11911912,\n        19.31931932,  19.51951952,  19.71971972,  19.91991992,\n        20.12012012,  20.32032032,  20.52052052,  20.72072072,\n        20.92092092,  21.12112112,  21.32132132,  21.52152152,\n        21.72172172,  21.92192192,  22.12212212,  22.32232232,\n        22.52252252,  22.72272272,  22.92292292,  23.12312312,\n        23.32332332,  23.52352352,  23.72372372,  23.92392392,\n        24.12412412,  24.32432432,  24.52452452,  24.72472472,\n        24.92492492,  25.12512513,  25.32532533,  25.52552553,\n        25.72572573,  25.92592593,  26.12612613,  26.32632633,\n        26.52652653,  26.72672673,  26.92692693,  27.12712713,\n        27.32732733,  27.52752753,  27.72772773,  27.92792793,\n        28.12812813,  28.32832833,  28.52852853,  28.72872873,\n        28.92892893,  29.12912913,  29.32932933,  29.52952953,\n        29.72972973,  29.92992993,  30.13013013,  30.33033033,\n        30.53053053,  30.73073073,  30.93093093,  31.13113113,\n        31.33133133,  31.53153153,  31.73173173,  31.93193193,\n        32.13213213,  32.33233233,  32.53253253,  32.73273273,\n        32.93293293,  33.13313313,  33.33333333,  33.53353353,\n        33.73373373,  33.93393393,  34.13413413,  34.33433433,\n        34.53453453,  34.73473473,  34.93493493,  35.13513514,\n        35.33533534,  35.53553554,  35.73573574,  35.93593594,\n        36.13613614,  36.33633634,  36.53653654,  36.73673674,\n        36.93693694,  37.13713714,  37.33733734,  37.53753754,\n        37.73773774,  37.93793794,  38.13813814,  38.33833834,\n        38.53853854,  38.73873874,  38.93893894,  39.13913914,\n        39.33933934,  39.53953954,  39.73973974,  39.93993994,\n        40.14014014,  40.34034034,  40.54054054,  40.74074074,\n        40.94094094,  41.14114114,  41.34134134,  41.54154154,\n        41.74174174,  41.94194194,  42.14214214,  42.34234234,\n        42.54254254,  42.74274274,  42.94294294,  43.14314314,\n        43.34334334,  43.54354354,  43.74374374,  43.94394394,\n        44.14414414,  44.34434434,  44.54454454,  44.74474474,\n        44.94494494,  45.14514515,  45.34534535,  45.54554555,\n        45.74574575,  45.94594595,  46.14614615,  46.34634635,\n        46.54654655,  46.74674675,  46.94694695,  47.14714715,\n        47.34734735,  47.54754755,  47.74774775,  47.94794795,\n        48.14814815,  48.34834835,  48.54854855,  48.74874875,\n        48.94894895,  49.14914915,  49.34934935,  49.54954955,\n        49.74974975,  49.94994995,  50.15015015,  50.35035035,\n        50.55055055,  50.75075075,  50.95095095,  51.15115115,\n        51.35135135,  51.55155155,  51.75175175,  51.95195195,\n        52.15215215,  52.35235235,  52.55255255,  52.75275275,\n        52.95295295,  53.15315315,  53.35335335,  53.55355355,\n        53.75375375,  53.95395395,  54.15415415,  54.35435435,\n        54.55455455,  54.75475475,  54.95495495,  55.15515516,\n        55.35535536,  55.55555556,  55.75575576,  55.95595596,\n        56.15615616,  56.35635636,  56.55655656,  56.75675676,\n        56.95695696,  57.15715716,  57.35735736,  57.55755756,\n        57.75775776,  57.95795796,  58.15815816,  58.35835836,\n        58.55855856,  58.75875876,  58.95895896,  59.15915916,\n        59.35935936,  59.55955956,  59.75975976,  59.95995996,\n        60.16016016,  60.36036036,  60.56056056,  60.76076076,\n        60.96096096,  61.16116116,  61.36136136,  61.56156156,\n        61.76176176,  61.96196196,  62.16216216,  62.36236236,\n        62.56256256,  62.76276276,  62.96296296,  63.16316316,\n        63.36336336,  63.56356356,  63.76376376,  63.96396396,\n        64.16416416,  64.36436436,  64.56456456,  64.76476476,\n        64.96496496,  65.16516517,  65.36536537,  65.56556557,\n        65.76576577,  65.96596597,  66.16616617,  66.36636637,\n        66.56656657,  66.76676677,  66.96696697,  67.16716717,\n        67.36736737,  67.56756757,  67.76776777,  67.96796797,\n        68.16816817,  68.36836837,  68.56856857,  68.76876877,\n        68.96896897,  69.16916917,  69.36936937,  69.56956957,\n        69.76976977,  69.96996997,  70.17017017,  70.37037037,\n        70.57057057,  70.77077077,  70.97097097,  71.17117117,\n        71.37137137,  71.57157157,  71.77177177,  71.97197197,\n        72.17217217,  72.37237237,  72.57257257,  72.77277277,\n        72.97297297,  73.17317317,  73.37337337,  73.57357357,\n        73.77377377,  73.97397397,  74.17417417,  74.37437437,\n        74.57457457,  74.77477477,  74.97497497,  75.17517518,\n        75.37537538,  75.57557558,  75.77577578,  75.97597598,\n        76.17617618,  76.37637638,  76.57657658,  76.77677678,\n        76.97697698,  77.17717718,  77.37737738,  77.57757758,\n        77.77777778,  77.97797798,  78.17817818,  78.37837838,\n        78.57857858,  78.77877878,  78.97897898,  79.17917918,\n        79.37937938,  79.57957958,  79.77977978,  79.97997998,\n        80.18018018,  80.38038038,  80.58058058,  80.78078078,\n        80.98098098,  81.18118118,  81.38138138,  81.58158158,\n        81.78178178,  81.98198198,  82.18218218,  82.38238238,\n        82.58258258,  82.78278278,  82.98298298,  83.18318318,\n        83.38338338,  83.58358358,  83.78378378,  83.98398398,\n        84.18418418,  84.38438438,  84.58458458,  84.78478478,\n        84.98498498,  85.18518519,  85.38538539,  85.58558559,\n        85.78578579,  85.98598599,  86.18618619,  86.38638639,\n        86.58658659,  86.78678679,  86.98698699,  87.18718719,\n        87.38738739,  87.58758759,  87.78778779,  87.98798799,\n        88.18818819,  88.38838839,  88.58858859,  88.78878879,\n        88.98898899,  89.18918919,  89.38938939,  89.58958959,\n        89.78978979,  89.98998999,  90.19019019,  90.39039039,\n        90.59059059,  90.79079079,  90.99099099,  91.19119119,\n        91.39139139,  91.59159159,  91.79179179,  91.99199199,\n        92.19219219,  92.39239239,  92.59259259,  92.79279279,\n        92.99299299,  93.19319319,  93.39339339,  93.59359359,\n        93.79379379,  93.99399399,  94.19419419,  94.39439439,\n        94.59459459,  94.79479479,  94.99499499,  95.1951952 ,\n        95.3953954 ,  95.5955956 ,  95.7957958 ,  95.995996  ,\n        96.1961962 ,  96.3963964 ,  96.5965966 ,  96.7967968 ,\n        96.996997  ,  97.1971972 ,  97.3973974 ,  97.5975976 ,\n        97.7977978 ,  97.997998  ,  98.1981982 ,  98.3983984 ,\n        98.5985986 ,  98.7987988 ,  98.998999  ,  99.1991992 ,\n        99.3993994 ,  99.5995996 ,  99.7997998 , 100.        ])"
     },
     "execution_count": 88,
     "metadata": {},
     "output_type": "execute_result"
    }
   ],
   "source": [
    "right_x = x[x>0]\n",
    "right_x"
   ],
   "metadata": {
    "collapsed": false,
    "ExecuteTime": {
     "start_time": "2023-04-21T05:16:29.977044Z",
     "end_time": "2023-04-21T05:16:30.000064Z"
    }
   }
  },
  {
   "cell_type": "code",
   "execution_count": 89,
   "outputs": [
    {
     "data": {
      "text/plain": "array([  -0.25      ,   -0.2505015 ,   -0.25100503,   -0.25151057,\n         -0.25201816,   -0.25252781,   -0.25303951,   -0.2535533 ,\n         -0.25406918,   -0.25458716,   -0.25510725,   -0.25562948,\n         -0.25615385,   -0.25668037,   -0.25720906,   -0.25773994,\n         -0.25827301,   -0.25880829,   -0.25934579,   -0.25988554,\n         -0.26042753,   -0.26097179,   -0.26151832,   -0.26206716,\n         -0.2626183 ,   -0.26317176,   -0.26372756,   -0.26428571,\n         -0.26484624,   -0.26540914,   -0.26597444,   -0.26654216,\n         -0.2671123 ,   -0.26768489,   -0.26825994,   -0.26883746,\n         -0.26941748,   -0.27      ,   -0.27058505,   -0.27117264,\n         -0.27176279,   -0.27235551,   -0.27295082,   -0.27354874,\n         -0.27414929,   -0.27475248,   -0.27535832,   -0.27596685,\n         -0.27657807,   -0.27719201,   -0.27780868,   -0.27842809,\n         -0.27905028,   -0.27967525,   -0.28030303,   -0.28093363,\n         -0.28156708,   -0.28220339,   -0.28284258,   -0.28348468,\n         -0.28412969,   -0.28477765,   -0.28542857,   -0.28608247,\n         -0.28673938,   -0.28739931,   -0.28806228,   -0.28872832,\n         -0.28939745,   -0.29006969,   -0.29074505,   -0.29142357,\n         -0.29210526,   -0.29279015,   -0.29347826,   -0.29416961,\n         -0.29486423,   -0.29556213,   -0.29626335,   -0.2969679 ,\n         -0.2976758 ,   -0.2983871 ,   -0.2991018 ,   -0.29981993,\n         -0.30054152,   -0.30126659,   -0.30199516,   -0.30272727,\n         -0.30346294,   -0.30420219,   -0.30494505,   -0.30569155,\n         -0.30644172,   -0.30719557,   -0.30795314,   -0.30871446,\n         -0.30947955,   -0.31024845,   -0.31102117,   -0.31179775,\n         -0.31257822,   -0.31336261,   -0.31415094,   -0.31494325,\n         -0.31573957,   -0.31653992,   -0.31734435,   -0.31815287,\n         -0.31896552,   -0.31978233,   -0.32060334,   -0.32142857,\n         -0.32225806,   -0.32309185,   -0.32392996,   -0.32477243,\n         -0.3256193 ,   -0.32647059,   -0.32732634,   -0.3281866 ,\n         -0.32905138,   -0.32992074,   -0.3307947 ,   -0.33167331,\n         -0.33255659,   -0.33344459,   -0.33433735,   -0.3352349 ,\n         -0.33613728,   -0.33704453,   -0.3379567 ,   -0.33887381,\n         -0.33979592,   -0.34072306,   -0.34165527,   -0.34259259,\n         -0.34353508,   -0.34448276,   -0.34543568,   -0.3463939 ,\n         -0.34735744,   -0.34832636,   -0.3493007 ,   -0.3502805 ,\n         -0.35126582,   -0.3522567 ,   -0.35325318,   -0.35425532,\n         -0.35526316,   -0.35627675,   -0.35729614,   -0.35832138,\n         -0.35935252,   -0.36038961,   -0.36143271,   -0.36248186,\n         -0.36353712,   -0.36459854,   -0.36566618,   -0.36674009,\n         -0.36782032,   -0.36890694,   -0.37      ,   -0.37109955,\n         -0.37220566,   -0.37331839,   -0.37443778,   -0.37556391,\n         -0.37669683,   -0.37783661,   -0.37898331,   -0.38013699,\n         -0.38129771,   -0.38246554,   -0.38364055,   -0.3848228 ,\n         -0.38601236,   -0.3872093 ,   -0.38841369,   -0.38962559,\n         -0.39084507,   -0.39207221,   -0.39330709,   -0.39454976,\n         -0.39580032,   -0.39705882,   -0.39832536,   -0.3996    ,\n         -0.40088283,   -0.40217391,   -0.40347334,   -0.4047812 ,\n         -0.40609756,   -0.40742251,   -0.40875614,   -0.41009852,\n         -0.41144975,   -0.41280992,   -0.4141791 ,   -0.4155574 ,\n         -0.41694491,   -0.41834171,   -0.4197479 ,   -0.42116358,\n         -0.42258883,   -0.42402377,   -0.42546848,   -0.42692308,\n         -0.42838765,   -0.42986231,   -0.43134715,   -0.43284229,\n         -0.43434783,   -0.43586387,   -0.43739054,   -0.43892794,\n         -0.44047619,   -0.4420354 ,   -0.44360568,   -0.44518717,\n         -0.44677996,   -0.4483842 ,   -0.45      ,   -0.45162749,\n         -0.45326679,   -0.45491803,   -0.45658135,   -0.45825688,\n         -0.45994475,   -0.4616451 ,   -0.46335807,   -0.4650838 ,\n         -0.46682243,   -0.46857411,   -0.47033898,   -0.4721172 ,\n         -0.47390892,   -0.47571429,   -0.47753346,   -0.4793666 ,\n         -0.48121387,   -0.48307544,   -0.48495146,   -0.48684211,\n         -0.48874755,   -0.49066798,   -0.49260355,   -0.49455446,\n         -0.49652087,   -0.49850299,   -0.500501  ,   -0.50251509,\n         -0.50454545,   -0.50659229,   -0.5086558 ,   -0.5107362 ,\n         -0.51283368,   -0.51494845,   -0.51708075,   -0.51923077,\n         -0.52139875,   -0.52358491,   -0.52578947,   -0.52801268,\n         -0.53025478,   -0.53251599,   -0.53479657,   -0.53709677,\n         -0.53941685,   -0.54175705,   -0.54411765,   -0.54649891,\n         -0.5489011 ,   -0.5513245 ,   -0.5537694 ,   -0.55623608,\n         -0.55872483,   -0.56123596,   -0.56376975,   -0.56632653,\n         -0.56890661,   -0.5715103 ,   -0.57413793,   -0.57678984,\n         -0.57946636,   -0.58216783,   -0.58489461,   -0.58764706,\n         -0.59042553,   -0.5932304 ,   -0.59606205,   -0.59892086,\n         -0.60180723,   -0.60472155,   -0.60766423,   -0.6106357 ,\n         -0.61363636,   -0.61666667,   -0.61972705,   -0.62281796,\n         -0.62593985,   -0.6290932 ,   -0.63227848,   -0.63549618,\n         -0.6387468 ,   -0.64203085,   -0.64534884,   -0.6487013 ,\n         -0.65208877,   -0.65551181,   -0.65897098,   -0.66246684,\n         -0.666     ,   -0.66957105,   -0.67318059,   -0.67682927,\n         -0.68051771,   -0.68424658,   -0.68801653,   -0.69182825,\n         -0.69568245,   -0.69957983,   -0.70352113,   -0.70750708,\n         -0.71153846,   -0.71561605,   -0.71974063,   -0.72391304,\n         -0.72813411,   -0.73240469,   -0.73672566,   -0.74109792,\n         -0.74552239,   -0.75      ,   -0.75453172,   -0.75911854,\n         -0.76376147,   -0.76846154,   -0.77321981,   -0.77803738,\n         -0.78291536,   -0.78785489,   -0.79285714,   -0.79792332,\n         -0.80305466,   -0.80825243,   -0.81351792,   -0.81885246,\n         -0.82425743,   -0.82973422,   -0.83528428,   -0.84090909,\n         -0.84661017,   -0.85238908,   -0.85824742,   -0.86418685,\n         -0.87020906,   -0.87631579,   -0.88250883,   -0.88879004,\n         -0.89516129,   -0.90162455,   -0.90818182,   -0.91483516,\n         -0.92158672,   -0.92843866,   -0.93539326,   -0.94245283,\n         -0.94961977,   -0.95689655,   -0.96428571,   -0.97178988,\n         -0.97941176,   -0.98715415,   -0.99501992,   -1.00301205,\n         -1.0111336 ,   -1.01938776,   -1.02777778,   -1.03630705,\n         -1.04497908,   -1.05379747,   -1.06276596,   -1.07188841,\n         -1.08116883,   -1.09061135,   -1.10022026,   -1.11      ,\n         -1.11995516,   -1.1300905 ,   -1.14041096,   -1.15092166,\n         -1.16162791,   -1.17253521,   -1.18364929,   -1.19497608,\n         -1.20652174,   -1.21829268,   -1.23029557,   -1.24253731,\n         -1.25502513,   -1.2677665 ,   -1.28076923,   -1.29404145,\n         -1.30759162,   -1.32142857,   -1.3355615 ,   -1.35      ,\n         -1.3647541 ,   -1.37983425,   -1.3952514 ,   -1.41101695,\n         -1.42714286,   -1.44364162,   -1.46052632,   -1.47781065,\n         -1.49550898,   -1.51363636,   -1.53220859,   -1.55124224,\n         -1.57075472,   -1.59076433,   -1.61129032,   -1.63235294,\n         -1.65397351,   -1.6761745 ,   -1.69897959,   -1.72241379,\n         -1.7465035 ,   -1.7712766 ,   -1.79676259,   -1.8229927 ,\n         -1.85      ,   -1.87781955,   -1.90648855,   -1.93604651,\n         -1.96653543,   -1.998     ,   -2.0304878 ,   -2.06404959,\n         -2.0987395 ,   -2.13461538,   -2.17173913,   -2.21017699,\n         -2.25      ,   -2.2912844 ,   -2.33411215,   -2.37857143,\n         -2.42475728,   -2.47277228,   -2.52272727,   -2.57474227,\n         -2.62894737,   -2.68548387,   -2.74450549,   -2.80617978,\n         -2.87068966,   -2.93823529,   -3.00903614,   -3.08333333,\n         -3.16139241,   -3.24350649,   -3.33      ,   -3.42123288,\n         -3.51760563,   -3.61956522,   -3.72761194,   -3.84230769,\n         -3.96428571,   -4.0942623 ,   -4.23305085,   -4.38157895,\n         -4.54090909,   -4.71226415,   -4.89705882,   -5.09693878,\n         -5.31382979,   -5.55      ,   -5.80813953,   -6.09146341,\n         -6.40384615,   -6.75      ,   -7.13571429,   -7.56818182,\n         -8.05645161,   -8.61206897,   -9.25      ,   -9.99      ,\n        -10.85869565,  -11.89285714,  -13.14473684,  -14.69117647,\n        -16.65      ,  -19.21153846,  -22.70454545,  -27.75      ,\n        -35.67857143,  -49.95      ,  -83.25      , -249.75      ])"
     },
     "execution_count": 89,
     "metadata": {},
     "output_type": "execute_result"
    }
   ],
   "source": [
    "left_y4 = ans4(left_x)\n",
    "left_y4"
   ],
   "metadata": {
    "collapsed": false,
    "ExecuteTime": {
     "start_time": "2023-04-21T05:16:51.480823Z",
     "end_time": "2023-04-21T05:16:51.519633Z"
    }
   }
  },
  {
   "cell_type": "code",
   "execution_count": 90,
   "outputs": [
    {
     "data": {
      "text/plain": "array([249.75      ,  83.25      ,  49.95      ,  35.67857143,\n        27.75      ,  22.70454545,  19.21153846,  16.65      ,\n        14.69117647,  13.14473684,  11.89285714,  10.85869565,\n         9.99      ,   9.25      ,   8.61206897,   8.05645161,\n         7.56818182,   7.13571429,   6.75      ,   6.40384615,\n         6.09146341,   5.80813953,   5.55      ,   5.31382979,\n         5.09693878,   4.89705882,   4.71226415,   4.54090909,\n         4.38157895,   4.23305085,   4.0942623 ,   3.96428571,\n         3.84230769,   3.72761194,   3.61956522,   3.51760563,\n         3.42123288,   3.33      ,   3.24350649,   3.16139241,\n         3.08333333,   3.00903614,   2.93823529,   2.87068966,\n         2.80617978,   2.74450549,   2.68548387,   2.62894737,\n         2.57474227,   2.52272727,   2.47277228,   2.42475728,\n         2.37857143,   2.33411215,   2.2912844 ,   2.25      ,\n         2.21017699,   2.17173913,   2.13461538,   2.0987395 ,\n         2.06404959,   2.0304878 ,   1.998     ,   1.96653543,\n         1.93604651,   1.90648855,   1.87781955,   1.85      ,\n         1.8229927 ,   1.79676259,   1.7712766 ,   1.7465035 ,\n         1.72241379,   1.69897959,   1.6761745 ,   1.65397351,\n         1.63235294,   1.61129032,   1.59076433,   1.57075472,\n         1.55124224,   1.53220859,   1.51363636,   1.49550898,\n         1.47781065,   1.46052632,   1.44364162,   1.42714286,\n         1.41101695,   1.3952514 ,   1.37983425,   1.3647541 ,\n         1.35      ,   1.3355615 ,   1.32142857,   1.30759162,\n         1.29404145,   1.28076923,   1.2677665 ,   1.25502513,\n         1.24253731,   1.23029557,   1.21829268,   1.20652174,\n         1.19497608,   1.18364929,   1.17253521,   1.16162791,\n         1.15092166,   1.14041096,   1.1300905 ,   1.11995516,\n         1.11      ,   1.10022026,   1.09061135,   1.08116883,\n         1.07188841,   1.06276596,   1.05379747,   1.04497908,\n         1.03630705,   1.02777778,   1.01938776,   1.0111336 ,\n         1.00301205,   0.99501992,   0.98715415,   0.97941176,\n         0.97178988,   0.96428571,   0.95689655,   0.94961977,\n         0.94245283,   0.93539326,   0.92843866,   0.92158672,\n         0.91483516,   0.90818182,   0.90162455,   0.89516129,\n         0.88879004,   0.88250883,   0.87631579,   0.87020906,\n         0.86418685,   0.85824742,   0.85238908,   0.84661017,\n         0.84090909,   0.83528428,   0.82973422,   0.82425743,\n         0.81885246,   0.81351792,   0.80825243,   0.80305466,\n         0.79792332,   0.79285714,   0.78785489,   0.78291536,\n         0.77803738,   0.77321981,   0.76846154,   0.76376147,\n         0.75911854,   0.75453172,   0.75      ,   0.74552239,\n         0.74109792,   0.73672566,   0.73240469,   0.72813411,\n         0.72391304,   0.71974063,   0.71561605,   0.71153846,\n         0.70750708,   0.70352113,   0.69957983,   0.69568245,\n         0.69182825,   0.68801653,   0.68424658,   0.68051771,\n         0.67682927,   0.67318059,   0.66957105,   0.666     ,\n         0.66246684,   0.65897098,   0.65551181,   0.65208877,\n         0.6487013 ,   0.64534884,   0.64203085,   0.6387468 ,\n         0.63549618,   0.63227848,   0.6290932 ,   0.62593985,\n         0.62281796,   0.61972705,   0.61666667,   0.61363636,\n         0.6106357 ,   0.60766423,   0.60472155,   0.60180723,\n         0.59892086,   0.59606205,   0.5932304 ,   0.59042553,\n         0.58764706,   0.58489461,   0.58216783,   0.57946636,\n         0.57678984,   0.57413793,   0.5715103 ,   0.56890661,\n         0.56632653,   0.56376975,   0.56123596,   0.55872483,\n         0.55623608,   0.5537694 ,   0.5513245 ,   0.5489011 ,\n         0.54649891,   0.54411765,   0.54175705,   0.53941685,\n         0.53709677,   0.53479657,   0.53251599,   0.53025478,\n         0.52801268,   0.52578947,   0.52358491,   0.52139875,\n         0.51923077,   0.51708075,   0.51494845,   0.51283368,\n         0.5107362 ,   0.5086558 ,   0.50659229,   0.50454545,\n         0.50251509,   0.500501  ,   0.49850299,   0.49652087,\n         0.49455446,   0.49260355,   0.49066798,   0.48874755,\n         0.48684211,   0.48495146,   0.48307544,   0.48121387,\n         0.4793666 ,   0.47753346,   0.47571429,   0.47390892,\n         0.4721172 ,   0.47033898,   0.46857411,   0.46682243,\n         0.4650838 ,   0.46335807,   0.4616451 ,   0.45994475,\n         0.45825688,   0.45658135,   0.45491803,   0.45326679,\n         0.45162749,   0.45      ,   0.4483842 ,   0.44677996,\n         0.44518717,   0.44360568,   0.4420354 ,   0.44047619,\n         0.43892794,   0.43739054,   0.43586387,   0.43434783,\n         0.43284229,   0.43134715,   0.42986231,   0.42838765,\n         0.42692308,   0.42546848,   0.42402377,   0.42258883,\n         0.42116358,   0.4197479 ,   0.41834171,   0.41694491,\n         0.4155574 ,   0.4141791 ,   0.41280992,   0.41144975,\n         0.41009852,   0.40875614,   0.40742251,   0.40609756,\n         0.4047812 ,   0.40347334,   0.40217391,   0.40088283,\n         0.3996    ,   0.39832536,   0.39705882,   0.39580032,\n         0.39454976,   0.39330709,   0.39207221,   0.39084507,\n         0.38962559,   0.38841369,   0.3872093 ,   0.38601236,\n         0.3848228 ,   0.38364055,   0.38246554,   0.38129771,\n         0.38013699,   0.37898331,   0.37783661,   0.37669683,\n         0.37556391,   0.37443778,   0.37331839,   0.37220566,\n         0.37109955,   0.37      ,   0.36890694,   0.36782032,\n         0.36674009,   0.36566618,   0.36459854,   0.36353712,\n         0.36248186,   0.36143271,   0.36038961,   0.35935252,\n         0.35832138,   0.35729614,   0.35627675,   0.35526316,\n         0.35425532,   0.35325318,   0.3522567 ,   0.35126582,\n         0.3502805 ,   0.3493007 ,   0.34832636,   0.34735744,\n         0.3463939 ,   0.34543568,   0.34448276,   0.34353508,\n         0.34259259,   0.34165527,   0.34072306,   0.33979592,\n         0.33887381,   0.3379567 ,   0.33704453,   0.33613728,\n         0.3352349 ,   0.33433735,   0.33344459,   0.33255659,\n         0.33167331,   0.3307947 ,   0.32992074,   0.32905138,\n         0.3281866 ,   0.32732634,   0.32647059,   0.3256193 ,\n         0.32477243,   0.32392996,   0.32309185,   0.32225806,\n         0.32142857,   0.32060334,   0.31978233,   0.31896552,\n         0.31815287,   0.31734435,   0.31653992,   0.31573957,\n         0.31494325,   0.31415094,   0.31336261,   0.31257822,\n         0.31179775,   0.31102117,   0.31024845,   0.30947955,\n         0.30871446,   0.30795314,   0.30719557,   0.30644172,\n         0.30569155,   0.30494505,   0.30420219,   0.30346294,\n         0.30272727,   0.30199516,   0.30126659,   0.30054152,\n         0.29981993,   0.2991018 ,   0.2983871 ,   0.2976758 ,\n         0.2969679 ,   0.29626335,   0.29556213,   0.29486423,\n         0.29416961,   0.29347826,   0.29279015,   0.29210526,\n         0.29142357,   0.29074505,   0.29006969,   0.28939745,\n         0.28872832,   0.28806228,   0.28739931,   0.28673938,\n         0.28608247,   0.28542857,   0.28477765,   0.28412969,\n         0.28348468,   0.28284258,   0.28220339,   0.28156708,\n         0.28093363,   0.28030303,   0.27967525,   0.27905028,\n         0.27842809,   0.27780868,   0.27719201,   0.27657807,\n         0.27596685,   0.27535832,   0.27475248,   0.27414929,\n         0.27354874,   0.27295082,   0.27235551,   0.27176279,\n         0.27117264,   0.27058505,   0.27      ,   0.26941748,\n         0.26883746,   0.26825994,   0.26768489,   0.2671123 ,\n         0.26654216,   0.26597444,   0.26540914,   0.26484624,\n         0.26428571,   0.26372756,   0.26317176,   0.2626183 ,\n         0.26206716,   0.26151832,   0.26097179,   0.26042753,\n         0.25988554,   0.25934579,   0.25880829,   0.25827301,\n         0.25773994,   0.25720906,   0.25668037,   0.25615385,\n         0.25562948,   0.25510725,   0.25458716,   0.25406918,\n         0.2535533 ,   0.25303951,   0.25252781,   0.25201816,\n         0.25151057,   0.25100503,   0.2505015 ,   0.25      ])"
     },
     "execution_count": 90,
     "metadata": {},
     "output_type": "execute_result"
    }
   ],
   "source": [
    "right_y4 = ans4(right_x)\n",
    "right_y4"
   ],
   "metadata": {
    "collapsed": false,
    "ExecuteTime": {
     "start_time": "2023-04-21T05:17:05.786452Z",
     "end_time": "2023-04-21T05:17:05.805143Z"
    }
   }
  },
  {
   "cell_type": "code",
   "execution_count": 67,
   "outputs": [
    {
     "data": {
      "text/plain": "0.25773195876288657"
     },
     "execution_count": 67,
     "metadata": {},
     "output_type": "execute_result"
    }
   ],
   "source": [
    "ans4(97)"
   ],
   "metadata": {
    "collapsed": false,
    "ExecuteTime": {
     "start_time": "2023-04-21T05:08:30.171285Z",
     "end_time": "2023-04-21T05:08:30.189835Z"
    }
   }
  },
  {
   "cell_type": "code",
   "execution_count": 52,
   "outputs": [
    {
     "data": {
      "text/plain": "0.025025025025025027"
     },
     "execution_count": 52,
     "metadata": {},
     "output_type": "execute_result"
    }
   ],
   "source": [
    "ans4(999)"
   ],
   "metadata": {
    "collapsed": false,
    "ExecuteTime": {
     "start_time": "2023-04-21T05:02:54.338792Z",
     "end_time": "2023-04-21T05:02:54.383520Z"
    }
   }
  },
  {
   "cell_type": "code",
   "execution_count": 68,
   "outputs": [
    {
     "data": {
      "text/plain": "-0.25773195876288657"
     },
     "execution_count": 68,
     "metadata": {},
     "output_type": "execute_result"
    }
   ],
   "source": [
    "ans4(-97)"
   ],
   "metadata": {
    "collapsed": false,
    "ExecuteTime": {
     "start_time": "2023-04-21T05:08:37.630725Z",
     "end_time": "2023-04-21T05:08:37.656905Z"
    }
   }
  },
  {
   "cell_type": "code",
   "execution_count": 54,
   "outputs": [
    {
     "data": {
      "text/plain": "-0.025025025025025027"
     },
     "execution_count": 54,
     "metadata": {},
     "output_type": "execute_result"
    }
   ],
   "source": [
    "ans4(-999)"
   ],
   "metadata": {
    "collapsed": false,
    "ExecuteTime": {
     "start_time": "2023-04-21T05:03:01.643736Z",
     "end_time": "2023-04-21T05:03:01.664072Z"
    }
   }
  },
  {
   "cell_type": "code",
   "execution_count": 95,
   "outputs": [
    {
     "data": {
      "text/plain": "<Figure size 640x480 with 1 Axes>",
      "image/png": "[encoded data removed]"
     },
     "metadata": {},
     "output_type": "display_data"
    }
   ],
   "source": [
    "fig, ax = plt.subplots()\n",
    "plt.axvline(x=0, c='lightgray')\n",
    "plt.axhline(y=0, c='lightgray')\n",
    "plt.xlim(-100,100)\n",
    "plt.ylim(-10,10)\n",
    "plt.axvline(x=97, c='purple', linestyle='--')\n",
    "plt.axhline(y=0.25, c='purple', linestyle='--')\n",
    "ax.plot(left_x,left_y4,c='green')\n",
    "_ = ax.plot(right_x,right_y4,c='green')"
   ],
   "metadata": {
    "collapsed": false,
    "ExecuteTime": {
     "start_time": "2023-04-21T05:18:33.209867Z",
     "end_time": "2023-04-21T05:18:33.406888Z"
    }
   }
  },
  {
   "cell_type": "code",
   "execution_count": 56,
   "outputs": [
    {
     "ename": "ZeroDivisionError",
     "evalue": "division by zero",
     "output_type": "error",
     "traceback": [
      "\u001B[1;31m---------------------------------------------------------------------------\u001B[0m",
      "\u001B[1;31mZeroDivisionError\u001B[0m                         Traceback (most recent call last)",
      "Cell \u001B[1;32mIn[56], line 1\u001B[0m\n\u001B[1;32m----> 1\u001B[0m \u001B[43mans4\u001B[49m\u001B[43m(\u001B[49m\u001B[38;5;241;43m0\u001B[39;49m\u001B[43m)\u001B[49m\n",
      "Cell \u001B[1;32mIn[39], line 2\u001B[0m, in \u001B[0;36mans4\u001B[1;34m(my_x)\u001B[0m\n\u001B[0;32m      1\u001B[0m \u001B[38;5;28;01mdef\u001B[39;00m \u001B[38;5;21mans4\u001B[39m(my_x):\n\u001B[1;32m----> 2\u001B[0m     my_y \u001B[38;5;241m=\u001B[39m \u001B[38;5;241;43m25\u001B[39;49m\u001B[38;5;241;43m/\u001B[39;49m\u001B[43mmy_x\u001B[49m\n\u001B[0;32m      3\u001B[0m     \u001B[38;5;28;01mreturn\u001B[39;00m my_y\n",
      "\u001B[1;31mZeroDivisionError\u001B[0m: division by zero"
     ]
    }
   ],
   "source": [
    "# ans4(0)"
   ],
   "metadata": {
    "collapsed": false
   }
  },
  {
   "cell_type": "code",
   "execution_count": 94,
   "outputs": [
    {
     "data": {
      "text/plain": "<Figure size 640x480 with 1 Axes>",
      "image/png": "[encoded data removed]"
     },
     "metadata": {},
     "output_type": "display_data"
    }
   ],
   "source": [
    "fig, ax = plt.subplots()\n",
    "plt.axvline(x=0, c='lightgray')\n",
    "plt.axhline(y=0, c='lightgray')\n",
    "plt.xlim(-100,100)\n",
    "plt.ylim(-10,10)\n",
    "plt.axvline(x=0, c='purple', linestyle='--')\n",
    "#plt.axhline(y=0.25, c='purple', linestyle='--')\n",
    "ax.plot(left_x,left_y4,c='green')\n",
    "_ = ax.plot(right_x,right_y4,c='green')"
   ],
   "metadata": {
    "collapsed": false,
    "ExecuteTime": {
     "start_time": "2023-04-21T05:18:22.621891Z",
     "end_time": "2023-04-21T05:18:22.815025Z"
    }
   }
  },
  {
   "cell_type": "markdown",
   "source": [
    "Exercise 2:\n",
    "\n",
    "Using the delta method, find the slope of the tangent where x = -1\n",
    "\n",
    "y = x**2 + 2*x + 2"
   ],
   "metadata": {
    "collapsed": false
   }
  },
  {
   "cell_type": "code",
   "execution_count": 97,
   "outputs": [
    {
     "data": {
      "text/plain": "-0.999999"
     },
     "execution_count": 97,
     "metadata": {},
     "output_type": "execute_result"
    }
   ],
   "source": [
    "x1 = -1\n",
    "delta_x = 0.000001\n",
    "x2 = x1 + delta_x\n",
    "x2"
   ],
   "metadata": {
    "collapsed": false,
    "ExecuteTime": {
     "start_time": "2023-04-21T05:46:48.284038Z",
     "end_time": "2023-04-21T05:46:48.303625Z"
    }
   }
  },
  {
   "cell_type": "code",
   "execution_count": 98,
   "outputs": [],
   "source": [
    "def f(my_x):\n",
    "    my_y = my_x**2 + 2*my_x + 2\n",
    "    return my_y"
   ],
   "metadata": {
    "collapsed": false,
    "ExecuteTime": {
     "start_time": "2023-04-21T05:47:33.700654Z",
     "end_time": "2023-04-21T05:47:33.733537Z"
    }
   }
  },
  {
   "cell_type": "code",
   "execution_count": 99,
   "outputs": [],
   "source": [
    "x = np.linspace(-10, 10, 1000)"
   ],
   "metadata": {
    "collapsed": false,
    "ExecuteTime": {
     "start_time": "2023-04-21T05:48:08.534840Z",
     "end_time": "2023-04-21T05:48:08.552059Z"
    }
   }
  },
  {
   "cell_type": "code",
   "execution_count": 100,
   "outputs": [],
   "source": [
    "y = f(x)"
   ],
   "metadata": {
    "collapsed": false,
    "ExecuteTime": {
     "start_time": "2023-04-21T05:48:09.644074Z",
     "end_time": "2023-04-21T05:48:09.681871Z"
    }
   }
  },
  {
   "cell_type": "code",
   "execution_count": 106,
   "outputs": [
    {
     "data": {
      "text/plain": "1"
     },
     "execution_count": 106,
     "metadata": {},
     "output_type": "execute_result"
    }
   ],
   "source": [
    "y1 = f(x1)\n",
    "y1"
   ],
   "metadata": {
    "collapsed": false,
    "ExecuteTime": {
     "start_time": "2023-04-21T05:51:40.576119Z",
     "end_time": "2023-04-21T05:51:40.599895Z"
    }
   }
  },
  {
   "cell_type": "code",
   "execution_count": 107,
   "outputs": [
    {
     "data": {
      "text/plain": "1.000000000001"
     },
     "execution_count": 107,
     "metadata": {},
     "output_type": "execute_result"
    }
   ],
   "source": [
    "y2 = f(x2)\n",
    "y2"
   ],
   "metadata": {
    "collapsed": false,
    "ExecuteTime": {
     "start_time": "2023-04-21T05:51:47.684845Z",
     "end_time": "2023-04-21T05:51:47.708798Z"
    }
   }
  },
  {
   "cell_type": "code",
   "execution_count": 108,
   "outputs": [
    {
     "data": {
      "text/plain": "1.0000889005535828e-06"
     },
     "execution_count": 108,
     "metadata": {},
     "output_type": "execute_result"
    }
   ],
   "source": [
    "m = (y2 - y1) / (x2 - x1)\n",
    "m"
   ],
   "metadata": {
    "collapsed": false,
    "ExecuteTime": {
     "start_time": "2023-04-21T05:51:51.445822Z",
     "end_time": "2023-04-21T05:51:51.463023Z"
    }
   }
  },
  {
   "cell_type": "code",
   "execution_count": 109,
   "outputs": [
    {
     "data": {
      "text/plain": "1.0000010000889006"
     },
     "execution_count": 109,
     "metadata": {},
     "output_type": "execute_result"
    }
   ],
   "source": [
    "b = y1 - m*x1\n",
    "b"
   ],
   "metadata": {
    "collapsed": false,
    "ExecuteTime": {
     "start_time": "2023-04-21T05:54:48.793224Z",
     "end_time": "2023-04-21T05:54:48.808330Z"
    }
   }
  },
  {
   "cell_type": "code",
   "execution_count": 110,
   "outputs": [],
   "source": [
    "line_y = m*x + b"
   ],
   "metadata": {
    "collapsed": false,
    "ExecuteTime": {
     "start_time": "2023-04-21T05:55:09.162466Z",
     "end_time": "2023-04-21T05:55:09.174235Z"
    }
   }
  },
  {
   "cell_type": "code",
   "execution_count": 111,
   "outputs": [
    {
     "data": {
      "text/plain": "<Figure size 640x480 with 1 Axes>",
      "image/png": "[encoded data removed]"
     },
     "metadata": {},
     "output_type": "display_data"
    }
   ],
   "source": [
    "fig, ax = plt.subplots()\n",
    "plt.axvline(x=0, c='lightgray')\n",
    "plt.axhline(y=0, c='lightgray')\n",
    "plt.xlim(-10,10)\n",
    "plt.ylim(-1,100)\n",
    "ax.scatter(x1,y1,c='green')\n",
    "ax.scatter(x2,y2,c='orange',zorder=3)\n",
    "plt.plot(x, line_y, c='orange',zorder=3)\n",
    "_ = ax.plot(x,y,c='green')"
   ],
   "metadata": {
    "collapsed": false,
    "ExecuteTime": {
     "start_time": "2023-04-21T05:55:34.568510Z",
     "end_time": "2023-04-21T05:55:34.759590Z"
    }
   }
  },
  {
   "cell_type": "markdown",
   "source": [
    "\n"
   ],
   "metadata": {
    "collapsed": false
   }
  },
  {
   "cell_type": "code",
   "execution_count": null,
   "outputs": [],
   "source": [],
   "metadata": {
    "collapsed": false
   }
  }
 ],
 "metadata": {
  "kernelspec": {
   "display_name": "Python 3",
   "language": "python",
   "name": "python3"
  },
  "language_info": {
   "codemirror_mode": {
    "name": "ipython",
    "version": 2
   },
   "file_extension": ".py",
   "mimetype": "text/x-python",
   "name": "python",
   "nbconvert_exporter": "python",
   "pygments_lexer": "ipython2",
   "version": "2.7.6"
  }
 },
 "nbformat": 4,
 "nbformat_minor": 0
}

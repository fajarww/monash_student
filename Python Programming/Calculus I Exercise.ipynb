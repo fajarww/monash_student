{
 "cells": [
  {
   "cell_type": "markdown",
   "source": [
    "Exercises:\n",
    "\n",
    "Evaluate the limits below using techniques from the slides or above.\n",
    "\n",
    "1. lim x->0 (((x**2) - 1) / (x - 1))\n",
    "2. lim x->5 (((x**2) - 25) / (x + 5))\n",
    "3. lim x->4 (((x**2) - 2*x - 8) / (x - 4))\n",
    "4. lim x->inf (25/x)\n",
    "5. lim x->0 (25/x)\n",
    "\n",
    "FYI while not necessary for ML nor for this ML Foundations curriculum, the SymPy symbolic mathematics library includes a limits() method. You can read about applying it to evaluate limits of expressions here."
   ],
   "metadata": {
    "collapsed": false
   }
  },
  {
   "cell_type": "code",
   "execution_count": 58,
   "outputs": [],
   "source": [
    "import numpy as np\n",
    "import matplotlib.pyplot as plt\n",
    "import sympy\n",
    "\n",
    "x = np.linspace(-10, 10, 1000)"
   ],
   "metadata": {
    "collapsed": false,
    "ExecuteTime": {
     "start_time": "2023-04-19T13:30:47.228418Z",
     "end_time": "2023-04-19T13:30:47.998156Z"
    }
   }
  },
  {
   "cell_type": "code",
   "execution_count": 59,
   "outputs": [],
   "source": [
    "# Ans 1\n",
    "def ans1(my_x):\n",
    "    my_y = ((my_x**2) - 1) / (my_x - 1)\n",
    "    return my_y"
   ],
   "metadata": {
    "collapsed": false,
    "ExecuteTime": {
     "start_time": "2023-04-19T13:30:47.240020Z",
     "end_time": "2023-04-19T13:30:48.099213Z"
    }
   }
  },
  {
   "cell_type": "code",
   "execution_count": 60,
   "outputs": [],
   "source": [
    "y1 = ans1(x)"
   ],
   "metadata": {
    "collapsed": false,
    "ExecuteTime": {
     "start_time": "2023-04-19T13:30:47.253032Z",
     "end_time": "2023-04-19T13:30:48.100212Z"
    }
   }
  },
  {
   "cell_type": "code",
   "execution_count": 61,
   "outputs": [
    {
     "data": {
      "text/plain": "2.009999999999999"
     },
     "execution_count": 61,
     "metadata": {},
     "output_type": "execute_result"
    }
   ],
   "source": [
    "ans1(1.01)"
   ],
   "metadata": {
    "collapsed": false,
    "ExecuteTime": {
     "start_time": "2023-04-19T13:30:47.269644Z",
     "end_time": "2023-04-19T13:30:48.100212Z"
    }
   }
  },
  {
   "cell_type": "code",
   "execution_count": 62,
   "outputs": [
    {
     "data": {
      "text/plain": "2.0000100000008274"
     },
     "execution_count": 62,
     "metadata": {},
     "output_type": "execute_result"
    }
   ],
   "source": [
    "ans1(1.00001)"
   ],
   "metadata": {
    "collapsed": false,
    "ExecuteTime": {
     "start_time": "2023-04-19T13:30:47.283211Z",
     "end_time": "2023-04-19T13:30:48.101213Z"
    }
   }
  },
  {
   "cell_type": "code",
   "execution_count": 63,
   "outputs": [
    {
     "data": {
      "text/plain": "1.990000000000001"
     },
     "execution_count": 63,
     "metadata": {},
     "output_type": "execute_result"
    }
   ],
   "source": [
    "ans1(0.99)"
   ],
   "metadata": {
    "collapsed": false,
    "ExecuteTime": {
     "start_time": "2023-04-19T13:30:47.301214Z",
     "end_time": "2023-04-19T13:30:48.101213Z"
    }
   }
  },
  {
   "cell_type": "code",
   "execution_count": 64,
   "outputs": [
    {
     "data": {
      "text/plain": "1.9999899999991726"
     },
     "execution_count": 64,
     "metadata": {},
     "output_type": "execute_result"
    }
   ],
   "source": [
    "ans1(0.99999)"
   ],
   "metadata": {
    "collapsed": false,
    "ExecuteTime": {
     "start_time": "2023-04-19T13:30:47.315231Z",
     "end_time": "2023-04-19T13:30:48.102234Z"
    }
   }
  },
  {
   "cell_type": "code",
   "execution_count": 65,
   "outputs": [],
   "source": [
    "# ans1(1)"
   ],
   "metadata": {
    "collapsed": false,
    "ExecuteTime": {
     "start_time": "2023-04-19T13:30:47.329863Z",
     "end_time": "2023-04-19T13:30:48.102234Z"
    }
   }
  },
  {
   "cell_type": "code",
   "execution_count": 66,
   "outputs": [
    {
     "data": {
      "text/plain": "<Figure size 640x480 with 1 Axes>",
      "image/png": "[encoded data removed]"
     },
     "metadata": {},
     "output_type": "display_data"
    }
   ],
   "source": [
    "fig, ax = plt.subplots()\n",
    "plt.axvline(x=0, c='lightgray')\n",
    "plt.axhline(y=0, c='lightgray')\n",
    "plt.xlim(-1,3)\n",
    "plt.ylim(-1,5)\n",
    "plt.axvline(x=1, c='purple', linestyle='--')\n",
    "plt.axhline(y=2, c='purple', linestyle='--')\n",
    "_ = ax.plot(x,y1)"
   ],
   "metadata": {
    "collapsed": false,
    "ExecuteTime": {
     "start_time": "2023-04-19T13:30:47.347882Z",
     "end_time": "2023-04-19T13:30:48.103234Z"
    }
   }
  },
  {
   "cell_type": "code",
   "execution_count": 67,
   "outputs": [],
   "source": [
    "def ans2(my_x):\n",
    "    my_y = ((my_x**2) - 25) / (my_x + 5)\n",
    "    return my_y"
   ],
   "metadata": {
    "collapsed": false,
    "ExecuteTime": {
     "start_time": "2023-04-19T13:30:47.548669Z",
     "end_time": "2023-04-19T13:30:48.103234Z"
    }
   }
  },
  {
   "cell_type": "code",
   "execution_count": 68,
   "outputs": [],
   "source": [
    "y2 = ans2(x)"
   ],
   "metadata": {
    "collapsed": false,
    "ExecuteTime": {
     "start_time": "2023-04-19T13:30:47.563855Z",
     "end_time": "2023-04-19T13:30:48.103234Z"
    }
   }
  },
  {
   "cell_type": "code",
   "execution_count": 69,
   "outputs": [],
   "source": [
    "# ans2(-5)"
   ],
   "metadata": {
    "collapsed": false,
    "ExecuteTime": {
     "start_time": "2023-04-19T13:30:47.576373Z",
     "end_time": "2023-04-19T13:30:48.103234Z"
    }
   }
  },
  {
   "cell_type": "code",
   "execution_count": 70,
   "outputs": [
    {
     "data": {
      "text/plain": "-9.899999999999984"
     },
     "execution_count": 70,
     "metadata": {},
     "output_type": "execute_result"
    }
   ],
   "source": [
    "ans2(-4.9)"
   ],
   "metadata": {
    "collapsed": false,
    "ExecuteTime": {
     "start_time": "2023-04-19T13:30:47.592376Z",
     "end_time": "2023-04-19T13:30:48.103234Z"
    }
   }
  },
  {
   "cell_type": "code",
   "execution_count": 71,
   "outputs": [
    {
     "data": {
      "text/plain": "-9.999999911182158"
     },
     "execution_count": 71,
     "metadata": {},
     "output_type": "execute_result"
    }
   ],
   "source": [
    "ans2(-4.9999999)"
   ],
   "metadata": {
    "collapsed": false,
    "ExecuteTime": {
     "start_time": "2023-04-19T13:30:47.606375Z",
     "end_time": "2023-04-19T13:30:48.103234Z"
    }
   }
  },
  {
   "cell_type": "code",
   "execution_count": 72,
   "outputs": [
    {
     "data": {
      "text/plain": "-10.009999999999977"
     },
     "execution_count": 72,
     "metadata": {},
     "output_type": "execute_result"
    }
   ],
   "source": [
    "ans2(-5.01)"
   ],
   "metadata": {
    "collapsed": false,
    "ExecuteTime": {
     "start_time": "2023-04-19T13:30:47.625400Z",
     "end_time": "2023-04-19T13:30:48.103234Z"
    }
   }
  },
  {
   "cell_type": "code",
   "execution_count": 73,
   "outputs": [
    {
     "data": {
      "text/plain": "-10.000000088817842"
     },
     "execution_count": 73,
     "metadata": {},
     "output_type": "execute_result"
    }
   ],
   "source": [
    "ans2(-5.0000001)"
   ],
   "metadata": {
    "collapsed": false,
    "ExecuteTime": {
     "start_time": "2023-04-19T13:30:47.647404Z",
     "end_time": "2023-04-19T13:30:48.104239Z"
    }
   }
  },
  {
   "cell_type": "code",
   "execution_count": 74,
   "outputs": [
    {
     "data": {
      "text/plain": "<Figure size 640x480 with 1 Axes>",
      "image/png": "[encoded data removed]"
     },
     "metadata": {},
     "output_type": "display_data"
    }
   ],
   "source": [
    "fig, ax = plt.subplots()\n",
    "plt.axvline(x=0, c='lightgray')\n",
    "plt.axhline(y=0, c='lightgray')\n",
    "plt.xlim(-8,1)\n",
    "plt.ylim(1,-15)\n",
    "plt.axvline(x=-5, c='purple', linestyle='--')\n",
    "plt.axhline(y=-10, c='purple', linestyle='--')\n",
    "_ = ax.plot(x,y2)"
   ],
   "metadata": {
    "collapsed": false,
    "ExecuteTime": {
     "start_time": "2023-04-19T13:30:47.659418Z",
     "end_time": "2023-04-19T13:30:48.122215Z"
    }
   }
  },
  {
   "cell_type": "code",
   "execution_count": 75,
   "outputs": [],
   "source": [
    "def ans3(my_x):\n",
    "    my_y = ((my_x**2) - 2*my_x - 8) / (my_x - 4)\n",
    "    return my_y"
   ],
   "metadata": {
    "collapsed": false,
    "ExecuteTime": {
     "start_time": "2023-04-19T13:30:47.944050Z",
     "end_time": "2023-04-19T13:30:48.122215Z"
    }
   }
  },
  {
   "cell_type": "code",
   "execution_count": 76,
   "outputs": [],
   "source": [
    "y3 = ans3(x)"
   ],
   "metadata": {
    "collapsed": false,
    "ExecuteTime": {
     "start_time": "2023-04-19T13:30:47.959013Z",
     "end_time": "2023-04-19T13:30:48.123228Z"
    }
   }
  },
  {
   "cell_type": "code",
   "execution_count": 77,
   "outputs": [
    {
     "data": {
      "text/plain": "5.999899999991726"
     },
     "execution_count": 77,
     "metadata": {},
     "output_type": "execute_result"
    }
   ],
   "source": [
    "ans3(3.9999)"
   ],
   "metadata": {
    "collapsed": false,
    "ExecuteTime": {
     "start_time": "2023-04-19T13:30:47.978127Z",
     "end_time": "2023-04-19T13:30:48.123228Z"
    }
   }
  },
  {
   "cell_type": "code",
   "execution_count": 78,
   "outputs": [
    {
     "data": {
      "text/plain": "6.000100000008274"
     },
     "execution_count": 78,
     "metadata": {},
     "output_type": "execute_result"
    }
   ],
   "source": [
    "ans3(4.0001)"
   ],
   "metadata": {
    "collapsed": false,
    "ExecuteTime": {
     "start_time": "2023-04-19T13:30:47.990127Z",
     "end_time": "2023-04-19T13:30:48.124226Z"
    }
   }
  },
  {
   "cell_type": "code",
   "execution_count": 79,
   "outputs": [],
   "source": [
    "# ans3(4)"
   ],
   "metadata": {
    "collapsed": false,
    "ExecuteTime": {
     "start_time": "2023-04-19T13:30:48.005140Z",
     "end_time": "2023-04-19T13:30:48.124226Z"
    }
   }
  },
  {
   "cell_type": "code",
   "execution_count": 80,
   "outputs": [
    {
     "data": {
      "text/plain": "<Figure size 640x480 with 1 Axes>",
      "image/png": "[encoded data removed]"
     },
     "metadata": {},
     "output_type": "display_data"
    }
   ],
   "source": [
    "fig, ax = plt.subplots()\n",
    "plt.axvline(x=0, c='lightgray')\n",
    "plt.axhline(y=0, c='lightgray')\n",
    "plt.xlim(-1,9)\n",
    "plt.ylim(-1,10)\n",
    "plt.axvline(x=4, c='purple', linestyle='--')\n",
    "plt.axhline(y=6, c='purple', linestyle='--')\n",
    "_ = ax.plot(x,y3)"
   ],
   "metadata": {
    "collapsed": false,
    "ExecuteTime": {
     "start_time": "2023-04-19T13:30:48.023136Z",
     "end_time": "2023-04-19T13:30:48.453649Z"
    }
   }
  }
 ],
 "metadata": {
  "kernelspec": {
   "display_name": "Python 3",
   "language": "python",
   "name": "python3"
  },
  "language_info": {
   "codemirror_mode": {
    "name": "ipython",
    "version": 2
   },
   "file_extension": ".py",
   "mimetype": "text/x-python",
   "name": "python",
   "nbconvert_exporter": "python",
   "pygments_lexer": "ipython2",
   "version": "2.7.6"
  }
 },
 "nbformat": 4,
 "nbformat_minor": 0
}

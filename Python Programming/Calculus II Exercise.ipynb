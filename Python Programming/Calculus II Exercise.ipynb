{
 "cells": [
  {
   "cell_type": "markdown",
   "source": [
    "Exercises: Use pencil and paper to determine:\n",
    "- The value of z\n",
    "- The slope of z with respect to x\n",
    "- The slope of z with respect to y\n",
    "\n",
    "... at the points where:\n",
    "1. x=3, y=0\n",
    "2. x=2, y=3\n",
    "3. x=-2, y=-3\n",
    "\n"
   ],
   "metadata": {
    "collapsed": false
   }
  },
  {
   "cell_type": "code",
   "execution_count": null,
   "metadata": {
    "collapsed": true
   },
   "outputs": [],
   "source": []
  },
  {
   "cell_type": "markdown",
   "source": [
    "Exercise: Repeat the most recent pencil-and-paper exercises using PyTorch (or TensorFlow, if you prefer)"
   ],
   "metadata": {
    "collapsed": false
   }
  },
  {
   "cell_type": "code",
   "execution_count": null,
   "outputs": [],
   "source": [],
   "metadata": {
    "collapsed": false
   }
  }
 ],
 "metadata": {
  "kernelspec": {
   "display_name": "Python 3",
   "language": "python",
   "name": "python3"
  },
  "language_info": {
   "codemirror_mode": {
    "name": "ipython",
    "version": 2
   },
   "file_extension": ".py",
   "mimetype": "text/x-python",
   "name": "python",
   "nbconvert_exporter": "python",
   "pygments_lexer": "ipython2",
   "version": "2.7.6"
  }
 },
 "nbformat": 4,
 "nbformat_minor": 0
}

{
 "cells": [
  {
   "attachments": {},
   "cell_type": "markdown",
   "metadata": {},
   "source": [
    "# Exercise:\n",
    "\n",
    "1. Use PyTorch to confirm Xv = λv for the first eigenvector of X.\n",
    "\n",
    "2. Confirm Xv = λv for the remaining eigenvectors of X (you can use NumPy or PyTorch, whichever you prefer)."
   ]
  },
  {
   "cell_type": "code",
   "execution_count": 1,
   "metadata": {
    "ExecuteTime": {
     "start_time": "2023-04-19T01:19:58.998847Z",
     "end_time": "2023-04-19T01:20:02.356708Z"
    }
   },
   "outputs": [],
   "source": [
    "import torch "
   ]
  },
  {
   "cell_type": "code",
   "execution_count": 2,
   "metadata": {
    "ExecuteTime": {
     "start_time": "2023-04-19T01:20:02.355676Z",
     "end_time": "2023-04-19T01:20:02.466270Z"
    }
   },
   "outputs": [
    {
     "data": {
      "text/plain": "tensor([[25.,  2.,  9.],\n        [ 5., 26., -5.],\n        [ 3.,  7., -1.]])"
     },
     "execution_count": 2,
     "metadata": {},
     "output_type": "execute_result"
    }
   ],
   "source": [
    "X = torch.tensor([[25, 2, 9.], [5, 26, -5.], [3, 7, -1.]])\n",
    "X"
   ]
  },
  {
   "cell_type": "code",
   "execution_count": 3,
   "metadata": {
    "ExecuteTime": {
     "start_time": "2023-04-19T01:20:02.466270Z",
     "end_time": "2023-04-19T01:20:02.541560Z"
    }
   },
   "outputs": [],
   "source": [
    "eigenvalues, eigenvectors = torch.linalg.eig(X)"
   ]
  },
  {
   "cell_type": "code",
   "execution_count": 4,
   "metadata": {
    "ExecuteTime": {
     "start_time": "2023-04-19T01:20:02.516995Z",
     "end_time": "2023-04-19T01:20:02.556637Z"
    }
   },
   "outputs": [
    {
     "data": {
      "text/plain": "tensor([29.6762+0.j, 20.6212+0.j, -0.2974+0.j])"
     },
     "execution_count": 4,
     "metadata": {},
     "output_type": "execute_result"
    }
   ],
   "source": [
    "eigenvalues"
   ]
  },
  {
   "cell_type": "code",
   "execution_count": 5,
   "metadata": {
    "ExecuteTime": {
     "start_time": "2023-04-19T01:20:02.534052Z",
     "end_time": "2023-04-19T01:20:02.556637Z"
    }
   },
   "outputs": [
    {
     "data": {
      "text/plain": "tensor([[ 0.7118+0.j,  0.6502+0.j, -0.3422+0.j],\n        [ 0.6665+0.j, -0.7446+0.j,  0.2379+0.j],\n        [ 0.2217+0.j, -0.1509+0.j,  0.9090+0.j]])"
     },
     "execution_count": 5,
     "metadata": {},
     "output_type": "execute_result"
    }
   ],
   "source": [
    "eigenvectors"
   ]
  },
  {
   "attachments": {},
   "cell_type": "markdown",
   "metadata": {},
   "source": [
    "### First pair of eigenvalue & eigenvector"
   ]
  },
  {
   "cell_type": "code",
   "execution_count": 6,
   "metadata": {
    "ExecuteTime": {
     "start_time": "2023-04-19T01:20:02.548091Z",
     "end_time": "2023-04-19T01:20:02.683142Z"
    }
   },
   "outputs": [
    {
     "name": "stderr",
     "output_type": "stream",
     "text": [
      "C:\\Users\\fajar\\AppData\\Local\\Temp\\ipykernel_17720\\3460556336.py:1: UserWarning: Casting complex values to real discards the imaginary part (Triggered internally at C:\\cb\\pytorch_1000000000000\\work\\aten\\src\\ATen\\native\\Copy.cpp:276.)\n",
      "  eigenvalue_1 = eigenvalues[0].float()\n"
     ]
    },
    {
     "data": {
      "text/plain": "tensor(29.6762)"
     },
     "execution_count": 6,
     "metadata": {},
     "output_type": "execute_result"
    }
   ],
   "source": [
    "eigenvalue_1 = eigenvalues[0].float()\n",
    "eigenvalue_1"
   ]
  },
  {
   "cell_type": "code",
   "execution_count": 7,
   "metadata": {
    "ExecuteTime": {
     "start_time": "2023-04-19T01:20:02.583258Z",
     "end_time": "2023-04-19T01:20:02.694613Z"
    }
   },
   "outputs": [
    {
     "data": {
      "text/plain": "tensor([0.7118, 0.6665, 0.2217])"
     },
     "execution_count": 7,
     "metadata": {},
     "output_type": "execute_result"
    }
   ],
   "source": [
    "eigenvector_1 = eigenvectors[:,0].float()\n",
    "eigenvector_1"
   ]
  },
  {
   "cell_type": "code",
   "execution_count": 8,
   "metadata": {
    "ExecuteTime": {
     "start_time": "2023-04-19T01:20:02.600321Z",
     "end_time": "2023-04-19T01:20:02.695614Z"
    }
   },
   "outputs": [
    {
     "data": {
      "text/plain": "tensor([21.1223, 19.7798,  6.5792])"
     },
     "execution_count": 8,
     "metadata": {},
     "output_type": "execute_result"
    }
   ],
   "source": [
    "Xv1 = torch.matmul(X, eigenvector_1)\n",
    "Xv1"
   ]
  },
  {
   "cell_type": "code",
   "execution_count": 9,
   "metadata": {
    "ExecuteTime": {
     "start_time": "2023-04-19T01:20:02.634892Z",
     "end_time": "2023-04-19T01:20:02.698576Z"
    }
   },
   "outputs": [
    {
     "data": {
      "text/plain": "tensor([21.1223, 19.7798,  6.5792])"
     },
     "execution_count": 9,
     "metadata": {},
     "output_type": "execute_result"
    }
   ],
   "source": [
    "λv1 = eigenvalue_1 * eigenvector_1\n",
    "λv1"
   ]
  },
  {
   "attachments": {},
   "cell_type": "markdown",
   "metadata": {},
   "source": [
    "### Second pair of eigenvalue and eigenvector"
   ]
  },
  {
   "cell_type": "code",
   "execution_count": 10,
   "metadata": {
    "ExecuteTime": {
     "start_time": "2023-04-19T01:20:02.661978Z",
     "end_time": "2023-04-19T01:20:02.704314Z"
    }
   },
   "outputs": [
    {
     "data": {
      "text/plain": "tensor(20.6212)"
     },
     "execution_count": 10,
     "metadata": {},
     "output_type": "execute_result"
    }
   ],
   "source": [
    "eigenvalue_2 = eigenvalues[1].float()\n",
    "eigenvalue_2"
   ]
  },
  {
   "cell_type": "code",
   "execution_count": 11,
   "metadata": {
    "ExecuteTime": {
     "start_time": "2023-04-19T01:20:02.690600Z",
     "end_time": "2023-04-19T01:20:02.705317Z"
    }
   },
   "outputs": [
    {
     "data": {
      "text/plain": "tensor([ 0.6502, -0.7446, -0.1509])"
     },
     "execution_count": 11,
     "metadata": {},
     "output_type": "execute_result"
    }
   ],
   "source": [
    "eigenvector_2 = eigenvectors[:,1].float()\n",
    "eigenvector_2"
   ]
  },
  {
   "cell_type": "code",
   "execution_count": 12,
   "metadata": {
    "ExecuteTime": {
     "start_time": "2023-04-19T01:20:02.709844Z",
     "end_time": "2023-04-19T01:20:02.856260Z"
    }
   },
   "outputs": [
    {
     "data": {
      "text/plain": "tensor([ 13.4077, -15.3554,  -3.1110])"
     },
     "execution_count": 12,
     "metadata": {},
     "output_type": "execute_result"
    }
   ],
   "source": [
    "Xv2 = torch.matmul(X, eigenvector_2)\n",
    "Xv2"
   ]
  },
  {
   "cell_type": "code",
   "execution_count": 13,
   "metadata": {
    "ExecuteTime": {
     "start_time": "2023-04-19T01:20:02.736920Z",
     "end_time": "2023-04-19T01:20:02.858095Z"
    }
   },
   "outputs": [
    {
     "data": {
      "text/plain": "tensor([ 13.4077, -15.3554,  -3.1110])"
     },
     "execution_count": 13,
     "metadata": {},
     "output_type": "execute_result"
    }
   ],
   "source": [
    "λv2 = eigenvalue_2 * eigenvector_2\n",
    "λv2"
   ]
  },
  {
   "attachments": {},
   "cell_type": "markdown",
   "metadata": {},
   "source": [
    "### Third pair of eigenvalue and eigenvector"
   ]
  },
  {
   "cell_type": "code",
   "execution_count": 14,
   "metadata": {
    "ExecuteTime": {
     "start_time": "2023-04-19T01:20:02.756700Z",
     "end_time": "2023-04-19T01:20:02.858095Z"
    }
   },
   "outputs": [
    {
     "data": {
      "text/plain": "tensor(-0.2974)"
     },
     "execution_count": 14,
     "metadata": {},
     "output_type": "execute_result"
    }
   ],
   "source": [
    "eigenvalue_3 = eigenvalues[2].float()\n",
    "eigenvalue_3"
   ]
  },
  {
   "cell_type": "code",
   "execution_count": 15,
   "metadata": {
    "ExecuteTime": {
     "start_time": "2023-04-19T01:20:02.783945Z",
     "end_time": "2023-04-19T01:20:02.859103Z"
    }
   },
   "outputs": [
    {
     "data": {
      "text/plain": "tensor([-0.3422,  0.2379,  0.9090])"
     },
     "execution_count": 15,
     "metadata": {},
     "output_type": "execute_result"
    }
   ],
   "source": [
    "eigenvector_3 = eigenvectors[:,2].float()\n",
    "eigenvector_3"
   ]
  },
  {
   "cell_type": "code",
   "execution_count": 16,
   "metadata": {
    "ExecuteTime": {
     "start_time": "2023-04-19T01:20:02.801025Z",
     "end_time": "2023-04-19T01:20:02.861127Z"
    }
   },
   "outputs": [
    {
     "data": {
      "text/plain": "tensor([ 0.1018, -0.0708, -0.2703])"
     },
     "execution_count": 16,
     "metadata": {},
     "output_type": "execute_result"
    }
   ],
   "source": [
    "Xv3 = torch.matmul(X, eigenvector_3)\n",
    "Xv3"
   ]
  },
  {
   "cell_type": "code",
   "execution_count": 17,
   "metadata": {
    "ExecuteTime": {
     "start_time": "2023-04-19T01:20:02.814546Z",
     "end_time": "2023-04-19T01:20:02.874799Z"
    }
   },
   "outputs": [
    {
     "data": {
      "text/plain": "tensor([ 0.1018, -0.0708, -0.2703])"
     },
     "execution_count": 17,
     "metadata": {},
     "output_type": "execute_result"
    }
   ],
   "source": [
    "λv3 = eigenvalue_3 * eigenvector_3\n",
    "λv3"
   ]
  },
  {
   "attachments": {},
   "cell_type": "markdown",
   "metadata": {},
   "source": [
    "# Exercises:\n",
    "\n",
    "1. Use PyTorch to decompose the matrix P (below) into its components V, Λ, and V**-1. Confirm that P = VΛV**-1.\n",
    "\n",
    "2. Use PyTorch to decompose the symmetric matrix S (below) into its components Q, Λ, Q\\**T. Confirm that S = QΛQ**T"
   ]
  },
  {
   "cell_type": "markdown",
   "source": [
    "Ans 1:"
   ],
   "metadata": {
    "collapsed": false
   }
  },
  {
   "cell_type": "code",
   "execution_count": 18,
   "metadata": {
    "ExecuteTime": {
     "start_time": "2023-04-19T01:20:02.830602Z",
     "end_time": "2023-04-19T01:20:02.875824Z"
    }
   },
   "outputs": [
    {
     "data": {
      "text/plain": "tensor([[25.,  2., -5.],\n        [ 3., -2.,  1.],\n        [ 5.,  7.,  4.]])"
     },
     "execution_count": 18,
     "metadata": {},
     "output_type": "execute_result"
    }
   ],
   "source": [
    "P = torch.tensor([[25, 2, -5], [3, -2, 1], [5, 7, 4.]])\n",
    "P"
   ]
  },
  {
   "cell_type": "code",
   "execution_count": 19,
   "metadata": {
    "ExecuteTime": {
     "start_time": "2023-04-19T01:20:02.849723Z",
     "end_time": "2023-04-19T01:20:02.876797Z"
    }
   },
   "outputs": [
    {
     "data": {
      "text/plain": "tensor([[25.,  2., -5.],\n        [ 2., -2.,  1.],\n        [-5.,  1.,  4.]])"
     },
     "execution_count": 19,
     "metadata": {},
     "output_type": "execute_result"
    }
   ],
   "source": [
    "S = torch.tensor([[25, 2, -5], [2, -2, 1], [-5, 1, 4.]])\n",
    "S"
   ]
  },
  {
   "cell_type": "code",
   "execution_count": 20,
   "outputs": [],
   "source": [
    "eigenvalues, eigenvectors = torch.linalg.eig(P)"
   ],
   "metadata": {
    "collapsed": false,
    "ExecuteTime": {
     "start_time": "2023-04-19T01:25:35.708671Z",
     "end_time": "2023-04-19T01:25:35.758978Z"
    }
   }
  },
  {
   "cell_type": "code",
   "execution_count": 21,
   "outputs": [
    {
     "data": {
      "text/plain": "tensor([23.7644+0.j,  6.6684+0.j, -3.4328+0.j])"
     },
     "execution_count": 21,
     "metadata": {},
     "output_type": "execute_result"
    }
   ],
   "source": [
    "eigenvalues"
   ],
   "metadata": {
    "collapsed": false,
    "ExecuteTime": {
     "start_time": "2023-04-19T01:25:45.824554Z",
     "end_time": "2023-04-19T01:25:45.871010Z"
    }
   }
  },
  {
   "cell_type": "code",
   "execution_count": 22,
   "outputs": [
    {
     "data": {
      "text/plain": "tensor([[ 0.9511+0.j, -0.2386+0.j,  0.1626+0.j],\n        [ 0.1218+0.j, -0.1924+0.j, -0.7705+0.j],\n        [ 0.2837+0.j, -0.9519+0.j,  0.6163+0.j]])"
     },
     "execution_count": 22,
     "metadata": {},
     "output_type": "execute_result"
    }
   ],
   "source": [
    "eigenvectors"
   ],
   "metadata": {
    "collapsed": false,
    "ExecuteTime": {
     "start_time": "2023-04-19T01:25:54.009316Z",
     "end_time": "2023-04-19T01:25:54.057946Z"
    }
   }
  },
  {
   "cell_type": "code",
   "execution_count": 24,
   "outputs": [
    {
     "data": {
      "text/plain": "tensor([[23.7644,  0.0000,  0.0000],\n        [ 0.0000,  6.6684,  0.0000],\n        [ 0.0000,  0.0000, -3.4328]])"
     },
     "execution_count": 24,
     "metadata": {},
     "output_type": "execute_result"
    }
   ],
   "source": [
    "Lambdas = torch.diag(eigenvalues).float()\n",
    "Lambdas"
   ],
   "metadata": {
    "collapsed": false,
    "ExecuteTime": {
     "start_time": "2023-04-19T01:27:13.692992Z",
     "end_time": "2023-04-19T01:27:13.739145Z"
    }
   }
  },
  {
   "cell_type": "code",
   "execution_count": 25,
   "outputs": [
    {
     "data": {
      "text/plain": "tensor([[ 0.9511, -0.2386,  0.1626],\n        [ 0.1218, -0.1924, -0.7705],\n        [ 0.2837, -0.9519,  0.6163]])"
     },
     "execution_count": 25,
     "metadata": {},
     "output_type": "execute_result"
    }
   ],
   "source": [
    "V = eigenvectors.float()\n",
    "V"
   ],
   "metadata": {
    "collapsed": false,
    "ExecuteTime": {
     "start_time": "2023-04-19T01:27:49.667426Z",
     "end_time": "2023-04-19T01:27:49.705725Z"
    }
   }
  },
  {
   "cell_type": "code",
   "execution_count": 26,
   "outputs": [
    {
     "data": {
      "text/plain": "tensor([[ 1.1356,  0.0102, -0.2868],\n        [ 0.3914, -0.7198, -1.0032],\n        [ 0.0817, -1.1164,  0.2052]])"
     },
     "execution_count": 26,
     "metadata": {},
     "output_type": "execute_result"
    }
   ],
   "source": [
    "Vinv = torch.linalg.inv(V)\n",
    "Vinv"
   ],
   "metadata": {
    "collapsed": false,
    "ExecuteTime": {
     "start_time": "2023-04-19T01:28:14.523105Z",
     "end_time": "2023-04-19T01:28:14.591810Z"
    }
   }
  },
  {
   "cell_type": "code",
   "execution_count": 27,
   "outputs": [
    {
     "data": {
      "text/plain": "tensor([[25.0000,  2.0000, -5.0000],\n        [ 3.0000, -2.0000,  1.0000],\n        [ 5.0000,  7.0000,  4.0000]])"
     },
     "execution_count": 27,
     "metadata": {},
     "output_type": "execute_result"
    }
   ],
   "source": [
    "torch.matmul(V, torch.matmul(Lambdas, Vinv))"
   ],
   "metadata": {
    "collapsed": false,
    "ExecuteTime": {
     "start_time": "2023-04-19T01:28:52.387190Z",
     "end_time": "2023-04-19T01:28:52.444016Z"
    }
   }
  },
  {
   "cell_type": "code",
   "execution_count": 28,
   "outputs": [
    {
     "data": {
      "text/plain": "tensor([[25.,  2., -5.],\n        [ 3., -2.,  1.],\n        [ 5.,  7.,  4.]])"
     },
     "execution_count": 28,
     "metadata": {},
     "output_type": "execute_result"
    }
   ],
   "source": [
    "P"
   ],
   "metadata": {
    "collapsed": false,
    "ExecuteTime": {
     "start_time": "2023-04-19T01:28:58.473334Z",
     "end_time": "2023-04-19T01:28:58.495843Z"
    }
   }
  },
  {
   "cell_type": "markdown",
   "source": [
    "Ans 2:"
   ],
   "metadata": {
    "collapsed": false
   }
  },
  {
   "cell_type": "code",
   "execution_count": 30,
   "outputs": [
    {
     "data": {
      "text/plain": "tensor([26.2361+0.j,  3.2435+0.j, -2.4796+0.j])"
     },
     "execution_count": 30,
     "metadata": {},
     "output_type": "execute_result"
    }
   ],
   "source": [
    "eigenvalues, eigenvectors = torch.linalg.eig(S)\n",
    "eigenvalues"
   ],
   "metadata": {
    "collapsed": false,
    "ExecuteTime": {
     "start_time": "2023-04-19T01:30:34.079127Z",
     "end_time": "2023-04-19T01:30:34.096376Z"
    }
   }
  },
  {
   "cell_type": "code",
   "execution_count": 31,
   "outputs": [
    {
     "data": {
      "text/plain": "tensor([[ 0.9744+0.j,  0.1943+0.j, -0.1132+0.j],\n        [ 0.0614+0.j,  0.2548+0.j,  0.9651+0.j],\n        [-0.2163+0.j,  0.9473+0.j, -0.2363+0.j]])"
     },
     "execution_count": 31,
     "metadata": {},
     "output_type": "execute_result"
    }
   ],
   "source": [
    "eigenvectors"
   ],
   "metadata": {
    "collapsed": false,
    "ExecuteTime": {
     "start_time": "2023-04-19T01:30:42.495641Z",
     "end_time": "2023-04-19T01:30:42.546708Z"
    }
   }
  },
  {
   "cell_type": "code",
   "execution_count": 32,
   "outputs": [
    {
     "data": {
      "text/plain": "tensor([[26.2361,  0.0000,  0.0000],\n        [ 0.0000,  3.2435,  0.0000],\n        [ 0.0000,  0.0000, -2.4796]])"
     },
     "execution_count": 32,
     "metadata": {},
     "output_type": "execute_result"
    }
   ],
   "source": [
    "Lambdas = torch.diag(eigenvalues).float()\n",
    "Lambdas"
   ],
   "metadata": {
    "collapsed": false,
    "ExecuteTime": {
     "start_time": "2023-04-19T01:31:05.972175Z",
     "end_time": "2023-04-19T01:31:05.991878Z"
    }
   }
  },
  {
   "cell_type": "code",
   "execution_count": 34,
   "outputs": [
    {
     "data": {
      "text/plain": "tensor([[ 0.9744,  0.1943, -0.1132],\n        [ 0.0614,  0.2548,  0.9651],\n        [-0.2163,  0.9473, -0.2363]])"
     },
     "execution_count": 34,
     "metadata": {},
     "output_type": "execute_result"
    }
   ],
   "source": [
    "Q = eigenvectors.float()\n",
    "Q"
   ],
   "metadata": {
    "collapsed": false,
    "ExecuteTime": {
     "start_time": "2023-04-19T01:31:30.553460Z",
     "end_time": "2023-04-19T01:31:30.567408Z"
    }
   }
  },
  {
   "cell_type": "code",
   "execution_count": 35,
   "outputs": [
    {
     "data": {
      "text/plain": "tensor([[25.0000,  2.0000, -5.0000],\n        [ 2.0000, -2.0000,  1.0000],\n        [-5.0000,  1.0000,  4.0000]])"
     },
     "execution_count": 35,
     "metadata": {},
     "output_type": "execute_result"
    }
   ],
   "source": [
    "torch.matmul(Q, torch.matmul(Lambdas, Q.T))"
   ],
   "metadata": {
    "collapsed": false,
    "ExecuteTime": {
     "start_time": "2023-04-19T01:31:57.204918Z",
     "end_time": "2023-04-19T01:31:57.237624Z"
    }
   }
  },
  {
   "cell_type": "code",
   "execution_count": 36,
   "outputs": [
    {
     "data": {
      "text/plain": "tensor([[25.,  2., -5.],\n        [ 2., -2.,  1.],\n        [-5.,  1.,  4.]])"
     },
     "execution_count": 36,
     "metadata": {},
     "output_type": "execute_result"
    }
   ],
   "source": [
    "S"
   ],
   "metadata": {
    "collapsed": false,
    "ExecuteTime": {
     "start_time": "2023-04-19T01:32:06.275751Z",
     "end_time": "2023-04-19T01:32:06.296230Z"
    }
   }
  },
  {
   "attachments": {},
   "cell_type": "markdown",
   "metadata": {},
   "source": [
    "Exercise: Using the matrix P from the preceding PyTorch exercises, demonstrate that these three SVD-eigendecomposition equations are true"
   ]
  },
  {
   "cell_type": "code",
   "execution_count": 38,
   "outputs": [
    {
     "data": {
      "text/plain": "tensor([[25.,  2., -5.],\n        [ 3., -2.,  1.],\n        [ 5.,  7.,  4.]])"
     },
     "execution_count": 38,
     "metadata": {},
     "output_type": "execute_result"
    }
   ],
   "source": [
    "P"
   ],
   "metadata": {
    "collapsed": false,
    "ExecuteTime": {
     "start_time": "2023-04-19T01:35:20.250337Z",
     "end_time": "2023-04-19T01:35:20.312709Z"
    }
   }
  },
  {
   "cell_type": "code",
   "execution_count": 37,
   "outputs": [
    {
     "data": {
      "text/plain": "tensor([26.1632,  8.1875,  2.5395])"
     },
     "execution_count": 37,
     "metadata": {},
     "output_type": "execute_result"
    }
   ],
   "source": [
    "U, d, VT = torch.linalg.svd(P)\n",
    "d"
   ],
   "metadata": {
    "collapsed": false,
    "ExecuteTime": {
     "start_time": "2023-04-19T01:35:01.137713Z",
     "end_time": "2023-04-19T01:35:01.187176Z"
    }
   }
  },
  {
   "cell_type": "code",
   "execution_count": 39,
   "outputs": [
    {
     "data": {
      "text/plain": "tensor([[-0.9757,  0.1823,  0.1214],\n        [-0.0975,  0.1350, -0.9860],\n        [-0.1961, -0.9739, -0.1140]])"
     },
     "execution_count": 39,
     "metadata": {},
     "output_type": "execute_result"
    }
   ],
   "source": [
    "U"
   ],
   "metadata": {
    "collapsed": false,
    "ExecuteTime": {
     "start_time": "2023-04-19T01:35:31.607957Z",
     "end_time": "2023-04-19T01:35:31.626672Z"
    }
   }
  },
  {
   "cell_type": "code",
   "execution_count": 40,
   "outputs": [
    {
     "data": {
      "text/plain": "tensor([[-0.9810, -0.1196,  0.1528],\n        [ 0.0113, -0.8211, -0.5706],\n        [-0.1937,  0.5581, -0.8069]])"
     },
     "execution_count": 40,
     "metadata": {},
     "output_type": "execute_result"
    }
   ],
   "source": [
    "VT"
   ],
   "metadata": {
    "collapsed": false,
    "ExecuteTime": {
     "start_time": "2023-04-19T01:35:38.234201Z",
     "end_time": "2023-04-19T01:35:38.247157Z"
    }
   }
  },
  {
   "cell_type": "code",
   "execution_count": 41,
   "outputs": [
    {
     "data": {
      "text/plain": "tensor([[26.1632,  0.0000,  0.0000],\n        [ 0.0000,  8.1875,  0.0000],\n        [ 0.0000,  0.0000,  2.5395]])"
     },
     "execution_count": 41,
     "metadata": {},
     "output_type": "execute_result"
    }
   ],
   "source": [
    "D = torch.diag(d)\n",
    "D"
   ],
   "metadata": {
    "collapsed": false,
    "ExecuteTime": {
     "start_time": "2023-04-19T01:36:15.929297Z",
     "end_time": "2023-04-19T01:36:15.970639Z"
    }
   }
  },
  {
   "cell_type": "code",
   "execution_count": 42,
   "outputs": [
    {
     "data": {
      "text/plain": "tensor([[25.0000,  2.0000, -5.0000],\n        [ 3.0000, -2.0000,  1.0000],\n        [ 5.0000,  7.0000,  4.0000]])"
     },
     "execution_count": 42,
     "metadata": {},
     "output_type": "execute_result"
    }
   ],
   "source": [
    "torch.matmul(U, torch.matmul(D, VT))"
   ],
   "metadata": {
    "collapsed": false,
    "ExecuteTime": {
     "start_time": "2023-04-19T01:36:37.051744Z",
     "end_time": "2023-04-19T01:36:37.089235Z"
    }
   }
  },
  {
   "cell_type": "code",
   "execution_count": 43,
   "outputs": [
    {
     "data": {
      "text/plain": "tensor([[25.,  2., -5.],\n        [ 3., -2.,  1.],\n        [ 5.,  7.,  4.]])"
     },
     "execution_count": 43,
     "metadata": {},
     "output_type": "execute_result"
    }
   ],
   "source": [
    "P"
   ],
   "metadata": {
    "collapsed": false,
    "ExecuteTime": {
     "start_time": "2023-04-19T01:36:45.884355Z",
     "end_time": "2023-04-19T01:36:45.910313Z"
    }
   }
  },
  {
   "cell_type": "code",
   "execution_count": 57,
   "outputs": [
    {
     "data": {
      "text/plain": "tensor([684.5149,  67.0359,   6.4492])"
     },
     "execution_count": 57,
     "metadata": {},
     "output_type": "execute_result"
    }
   ],
   "source": [
    "eigenvalues, eigenvectors = torch.linalg.eig(torch.matmul(P, P.T))\n",
    "eigenvalues.float()"
   ],
   "metadata": {
    "collapsed": false,
    "ExecuteTime": {
     "start_time": "2023-04-19T01:45:48.737661Z",
     "end_time": "2023-04-19T01:45:48.770899Z"
    }
   }
  },
  {
   "cell_type": "code",
   "execution_count": 56,
   "outputs": [
    {
     "data": {
      "text/plain": "tensor([[-0.9757, -0.1823,  0.1214],\n        [-0.0975, -0.1350, -0.9860],\n        [-0.1961,  0.9739, -0.1140]])"
     },
     "execution_count": 56,
     "metadata": {},
     "output_type": "execute_result"
    }
   ],
   "source": [
    "eigenvectors.float()"
   ],
   "metadata": {
    "collapsed": false,
    "ExecuteTime": {
     "start_time": "2023-04-19T01:45:36.642266Z",
     "end_time": "2023-04-19T01:45:36.659506Z"
    }
   }
  },
  {
   "cell_type": "code",
   "execution_count": 59,
   "outputs": [
    {
     "data": {
      "text/plain": "tensor([[-0.9757,  0.1823,  0.1214],\n        [-0.0975,  0.1350, -0.9860],\n        [-0.1961, -0.9739, -0.1140]])"
     },
     "execution_count": 59,
     "metadata": {},
     "output_type": "execute_result"
    }
   ],
   "source": [
    "# Left Singular Vector == eigenvectors of A(A**T)\n",
    "U"
   ],
   "metadata": {
    "collapsed": false,
    "ExecuteTime": {
     "start_time": "2023-04-19T01:46:14.476445Z",
     "end_time": "2023-04-19T01:46:14.506733Z"
    }
   }
  },
  {
   "cell_type": "code",
   "execution_count": 61,
   "outputs": [
    {
     "data": {
      "text/plain": "tensor([684.5149,   6.4492,  67.0359])"
     },
     "execution_count": 61,
     "metadata": {},
     "output_type": "execute_result"
    }
   ],
   "source": [
    "eigenvalues, eigenvectors = torch.linalg.eig(torch.matmul(P.T, P))\n",
    "eigenvalues.float()"
   ],
   "metadata": {
    "collapsed": false,
    "ExecuteTime": {
     "start_time": "2023-04-19T01:47:17.648061Z",
     "end_time": "2023-04-19T01:47:17.699490Z"
    }
   }
  },
  {
   "cell_type": "code",
   "execution_count": 62,
   "outputs": [
    {
     "data": {
      "text/plain": "tensor([[ 0.9810,  0.1937, -0.0113],\n        [ 0.1196, -0.5581,  0.8211],\n        [-0.1528,  0.8069,  0.5706]])"
     },
     "execution_count": 62,
     "metadata": {},
     "output_type": "execute_result"
    }
   ],
   "source": [
    "eigenvectors.float()"
   ],
   "metadata": {
    "collapsed": false,
    "ExecuteTime": {
     "start_time": "2023-04-19T01:47:32.982091Z",
     "end_time": "2023-04-19T01:47:33.033895Z"
    }
   }
  },
  {
   "cell_type": "code",
   "execution_count": 73,
   "outputs": [
    {
     "data": {
      "text/plain": "tensor([[-0.9810,  0.0113, -0.1937],\n        [-0.1196, -0.8211,  0.5581],\n        [ 0.1528, -0.5706, -0.8069]])"
     },
     "execution_count": 73,
     "metadata": {},
     "output_type": "execute_result"
    }
   ],
   "source": [
    "# Right Singular Vector == eigenvector (A**T)A\n",
    "VT.T\n",
    "# as eigenvalues are arranged in order, so too are singular values\n",
    "# by convention, arranged in descending order\n",
    "\n",
    "# the differences are the order of the singular vectors and the minus sign for right singular vector"
   ],
   "metadata": {
    "collapsed": false,
    "ExecuteTime": {
     "start_time": "2023-04-19T01:56:35.474649Z",
     "end_time": "2023-04-19T01:56:35.555890Z"
    }
   }
  },
  {
   "cell_type": "code",
   "execution_count": 103,
   "outputs": [
    {
     "data": {
      "text/plain": "tensor([[ 0.9810,  0.1937, -0.0113],\n        [ 0.1196, -0.5581,  0.8211],\n        [-0.1528,  0.8069,  0.5706]])"
     },
     "execution_count": 103,
     "metadata": {},
     "output_type": "execute_result"
    }
   ],
   "source": [
    "torch.column_stack((VT.T[:,0], VT.T[:,2], VT.T[:,1])) * -1\n",
    "# swap column 2 and 1 to equal with the eigenvectors\n",
    "# trying to multiply with negative 1 to equal the sign with eigenvectors"
   ],
   "metadata": {
    "collapsed": false,
    "ExecuteTime": {
     "start_time": "2023-04-19T02:13:27.375427Z",
     "end_time": "2023-04-19T02:13:27.397863Z"
    }
   }
  },
  {
   "cell_type": "code",
   "execution_count": 97,
   "outputs": [
    {
     "data": {
      "text/plain": "tensor([[ 0.9810,  0.1937, -0.0113],\n        [ 0.1196, -0.5581,  0.8211],\n        [-0.1528,  0.8069,  0.5706]])"
     },
     "execution_count": 97,
     "metadata": {},
     "output_type": "execute_result"
    }
   ],
   "source": [
    "eigenvectors.float()"
   ],
   "metadata": {
    "collapsed": false,
    "ExecuteTime": {
     "start_time": "2023-04-19T02:11:51.095924Z",
     "end_time": "2023-04-19T02:11:51.117325Z"
    }
   }
  },
  {
   "cell_type": "code",
   "execution_count": 119,
   "outputs": [
    {
     "data": {
      "text/plain": "tensor([26.1632,  8.1875,  2.5395])"
     },
     "execution_count": 119,
     "metadata": {},
     "output_type": "execute_result"
    }
   ],
   "source": [
    "# Non Zero Singular Values of A\n",
    "d"
   ],
   "metadata": {
    "collapsed": false,
    "ExecuteTime": {
     "start_time": "2023-04-19T02:21:35.187372Z",
     "end_time": "2023-04-19T02:21:35.206055Z"
    }
   }
  },
  {
   "cell_type": "code",
   "execution_count": 115,
   "outputs": [
    {
     "data": {
      "text/plain": "tensor([684.5149,  67.0359,   6.4492])"
     },
     "execution_count": 115,
     "metadata": {},
     "output_type": "execute_result"
    }
   ],
   "source": [
    "eigenvalues, eigenvectors = torch.linalg.eig(torch.matmul(P, P.T))\n",
    "eigenvalues.float()"
   ],
   "metadata": {
    "collapsed": false,
    "ExecuteTime": {
     "start_time": "2023-04-19T02:19:58.364949Z",
     "end_time": "2023-04-19T02:19:58.383064Z"
    }
   }
  },
  {
   "cell_type": "code",
   "execution_count": 116,
   "outputs": [
    {
     "data": {
      "text/plain": "tensor([26.1632,  8.1875,  2.5395])"
     },
     "execution_count": 116,
     "metadata": {},
     "output_type": "execute_result"
    }
   ],
   "source": [
    "torch.sqrt(eigenvalues.float())"
   ],
   "metadata": {
    "collapsed": false,
    "ExecuteTime": {
     "start_time": "2023-04-19T02:20:03.282394Z",
     "end_time": "2023-04-19T02:20:03.373513Z"
    }
   }
  },
  {
   "cell_type": "code",
   "execution_count": 117,
   "outputs": [
    {
     "data": {
      "text/plain": "tensor([684.5149,   6.4492,  67.0359])"
     },
     "execution_count": 117,
     "metadata": {},
     "output_type": "execute_result"
    }
   ],
   "source": [
    "eigenvalues, eigenvectors = torch.linalg.eig(torch.matmul(P.T, P))\n",
    "eigenvalues.float()"
   ],
   "metadata": {
    "collapsed": false,
    "ExecuteTime": {
     "start_time": "2023-04-19T02:21:07.582146Z",
     "end_time": "2023-04-19T02:21:07.629226Z"
    }
   }
  },
  {
   "cell_type": "code",
   "execution_count": 118,
   "outputs": [
    {
     "data": {
      "text/plain": "tensor([26.1632,  2.5395,  8.1875])"
     },
     "execution_count": 118,
     "metadata": {},
     "output_type": "execute_result"
    }
   ],
   "source": [
    "torch.sqrt(eigenvalues.float())\n",
    "# difference in order in right singular value"
   ],
   "metadata": {
    "collapsed": false,
    "ExecuteTime": {
     "start_time": "2023-04-19T02:21:20.080412Z",
     "end_time": "2023-04-19T02:21:20.100457Z"
    }
   }
  },
  {
   "attachments": {},
   "cell_type": "markdown",
   "metadata": {},
   "source": [
    "Exercise:\n",
    "\n",
    "Use the torch.svd() method to calculate the pseudoinverse of A_p, confirming that your result matches the output of torch.pinverse(A_p):"
   ]
  },
  {
   "cell_type": "code",
   "execution_count": 120,
   "outputs": [
    {
     "data": {
      "text/plain": "tensor([[-1.,  2.],\n        [ 3., -2.],\n        [ 5.,  7.]])"
     },
     "execution_count": 120,
     "metadata": {},
     "output_type": "execute_result"
    }
   ],
   "source": [
    "A_p = torch.tensor([[-1, 2], [3, -2], [5, 7.]])\n",
    "A_p"
   ],
   "metadata": {
    "collapsed": false,
    "ExecuteTime": {
     "start_time": "2023-04-19T02:25:42.454889Z",
     "end_time": "2023-04-19T02:25:42.545095Z"
    }
   }
  },
  {
   "cell_type": "code",
   "execution_count": 121,
   "outputs": [
    {
     "data": {
      "text/plain": "tensor([[-0.0877,  0.1777,  0.0758],\n        [ 0.0766, -0.1193,  0.0869]])"
     },
     "execution_count": 121,
     "metadata": {},
     "output_type": "execute_result"
    }
   ],
   "source": [
    "torch.pinverse(A_p)"
   ],
   "metadata": {
    "collapsed": false,
    "ExecuteTime": {
     "start_time": "2023-04-19T02:25:50.198612Z",
     "end_time": "2023-04-19T02:25:50.326657Z"
    }
   }
  },
  {
   "cell_type": "code",
   "execution_count": 122,
   "outputs": [
    {
     "data": {
      "text/plain": "tensor([8.6692, 4.1043])"
     },
     "execution_count": 122,
     "metadata": {},
     "output_type": "execute_result"
    }
   ],
   "source": [
    "U, d, VT = torch.linalg.svd(A_p)\n",
    "d"
   ],
   "metadata": {
    "collapsed": false,
    "ExecuteTime": {
     "start_time": "2023-04-19T02:26:37.081802Z",
     "end_time": "2023-04-19T02:26:37.104921Z"
    }
   }
  },
  {
   "cell_type": "code",
   "execution_count": 123,
   "outputs": [
    {
     "data": {
      "text/plain": "tensor([[ 0.1271,  0.4741,  0.8713],\n        [ 0.0016, -0.8785,  0.4778],\n        [ 0.9919, -0.0593, -0.1124]])"
     },
     "execution_count": 123,
     "metadata": {},
     "output_type": "execute_result"
    }
   ],
   "source": [
    "U.float()"
   ],
   "metadata": {
    "collapsed": false,
    "ExecuteTime": {
     "start_time": "2023-04-19T02:26:50.037086Z",
     "end_time": "2023-04-19T02:26:50.101998Z"
    }
   }
  },
  {
   "cell_type": "code",
   "execution_count": 124,
   "outputs": [
    {
     "data": {
      "text/plain": "tensor([[ 0.5580,  0.8298],\n        [-0.8298,  0.5580]])"
     },
     "execution_count": 124,
     "metadata": {},
     "output_type": "execute_result"
    }
   ],
   "source": [
    "VT.float()"
   ],
   "metadata": {
    "collapsed": false,
    "ExecuteTime": {
     "start_time": "2023-04-19T02:26:59.091970Z",
     "end_time": "2023-04-19T02:26:59.200263Z"
    }
   }
  },
  {
   "cell_type": "code",
   "execution_count": 125,
   "outputs": [
    {
     "data": {
      "text/plain": "tensor([[8.6692, 0.0000],\n        [0.0000, 4.1043]])"
     },
     "execution_count": 125,
     "metadata": {},
     "output_type": "execute_result"
    }
   ],
   "source": [
    "D = torch.diag(d)\n",
    "D"
   ],
   "metadata": {
    "collapsed": false,
    "ExecuteTime": {
     "start_time": "2023-04-19T02:27:23.280346Z",
     "end_time": "2023-04-19T02:27:23.307236Z"
    }
   }
  },
  {
   "cell_type": "code",
   "execution_count": 126,
   "outputs": [
    {
     "data": {
      "text/plain": "0.115350897429982"
     },
     "execution_count": 126,
     "metadata": {},
     "output_type": "execute_result"
    }
   ],
   "source": [
    "1/8.6692"
   ],
   "metadata": {
    "collapsed": false,
    "ExecuteTime": {
     "start_time": "2023-04-19T02:27:39.918875Z",
     "end_time": "2023-04-19T02:27:39.940447Z"
    }
   }
  },
  {
   "cell_type": "code",
   "execution_count": 127,
   "outputs": [
    {
     "data": {
      "text/plain": "0.24364690690251686"
     },
     "execution_count": 127,
     "metadata": {},
     "output_type": "execute_result"
    }
   ],
   "source": [
    "1/4.1043"
   ],
   "metadata": {
    "collapsed": false,
    "ExecuteTime": {
     "start_time": "2023-04-19T02:27:45.906194Z",
     "end_time": "2023-04-19T02:27:45.928255Z"
    }
   }
  },
  {
   "cell_type": "code",
   "execution_count": 128,
   "outputs": [
    {
     "data": {
      "text/plain": "tensor([[0.1153, 0.0000],\n        [0.0000, 0.2436]])"
     },
     "execution_count": 128,
     "metadata": {},
     "output_type": "execute_result"
    }
   ],
   "source": [
    "torch.tensor([[0.1153, 0], [0, 0.2436]])"
   ],
   "metadata": {
    "collapsed": false,
    "ExecuteTime": {
     "start_time": "2023-04-19T02:28:24.695990Z",
     "end_time": "2023-04-19T02:28:24.715108Z"
    }
   }
  },
  {
   "cell_type": "code",
   "execution_count": 129,
   "outputs": [
    {
     "data": {
      "text/plain": "tensor([[0.1154, 0.0000],\n        [0.0000, 0.2436]])"
     },
     "execution_count": 129,
     "metadata": {},
     "output_type": "execute_result"
    }
   ],
   "source": [
    "torch.inverse(D)"
   ],
   "metadata": {
    "collapsed": false,
    "ExecuteTime": {
     "start_time": "2023-04-19T02:28:36.244608Z",
     "end_time": "2023-04-19T02:28:36.347914Z"
    }
   }
  },
  {
   "cell_type": "code",
   "execution_count": 130,
   "outputs": [
    {
     "data": {
      "text/plain": "tensor([[-1.,  2.],\n        [ 3., -2.],\n        [ 5.,  7.]])"
     },
     "execution_count": 130,
     "metadata": {},
     "output_type": "execute_result"
    }
   ],
   "source": [
    "A_p"
   ],
   "metadata": {
    "collapsed": false,
    "ExecuteTime": {
     "start_time": "2023-04-19T02:29:02.405576Z",
     "end_time": "2023-04-19T02:29:02.500002Z"
    }
   }
  },
  {
   "cell_type": "code",
   "execution_count": 137,
   "outputs": [
    {
     "data": {
      "text/plain": "tensor([[0.1154, 0.0000, 0.0000],\n        [0.0000, 0.2436, 0.0000]])"
     },
     "execution_count": 137,
     "metadata": {},
     "output_type": "execute_result"
    }
   ],
   "source": [
    "D_plus = torch.cat((torch.inverse(D), torch.tensor([[0,0]]).T), axis=1)\n",
    "D_plus"
   ],
   "metadata": {
    "collapsed": false,
    "ExecuteTime": {
     "start_time": "2023-04-19T02:32:00.286194Z",
     "end_time": "2023-04-19T02:32:00.327463Z"
    }
   }
  },
  {
   "cell_type": "code",
   "execution_count": 138,
   "outputs": [
    {
     "data": {
      "text/plain": "tensor([[-0.0877,  0.1777,  0.0758],\n        [ 0.0766, -0.1193,  0.0869]])"
     },
     "execution_count": 138,
     "metadata": {},
     "output_type": "execute_result"
    }
   ],
   "source": [
    "torch.matmul(VT.T, torch.matmul(D_plus, U.T))"
   ],
   "metadata": {
    "collapsed": false,
    "ExecuteTime": {
     "start_time": "2023-04-19T02:32:30.653442Z",
     "end_time": "2023-04-19T02:32:30.725097Z"
    }
   }
  },
  {
   "cell_type": "code",
   "execution_count": 139,
   "outputs": [
    {
     "data": {
      "text/plain": "tensor([[-0.0877,  0.1777,  0.0758],\n        [ 0.0766, -0.1193,  0.0869]])"
     },
     "execution_count": 139,
     "metadata": {},
     "output_type": "execute_result"
    }
   ],
   "source": [
    "torch.pinverse(A_p)"
   ],
   "metadata": {
    "collapsed": false,
    "ExecuteTime": {
     "start_time": "2023-04-19T02:32:51.702178Z",
     "end_time": "2023-04-19T02:32:51.847176Z"
    }
   }
  },
  {
   "cell_type": "markdown",
   "source": [
    "Exercises:\n",
    "\n",
    "With the matrix A_p provided below:\n",
    "\n",
    "1. Uses the PyTorch trace method to calculate the trace of A_p\n",
    "2. Use the PyTorch Frobenius norm method and trace method to demonstrate that ||A||_f = (Tr(A(A\\**T))**1/2)"
   ],
   "metadata": {
    "collapsed": false
   }
  },
  {
   "cell_type": "code",
   "execution_count": 140,
   "outputs": [
    {
     "data": {
      "text/plain": "tensor([[-1.,  2.],\n        [ 3., -2.],\n        [ 5.,  7.]])"
     },
     "execution_count": 140,
     "metadata": {},
     "output_type": "execute_result"
    }
   ],
   "source": [
    "A_p"
   ],
   "metadata": {
    "collapsed": false,
    "ExecuteTime": {
     "start_time": "2023-04-19T02:37:25.974859Z",
     "end_time": "2023-04-19T02:37:25.994869Z"
    }
   }
  },
  {
   "cell_type": "code",
   "execution_count": 141,
   "outputs": [
    {
     "data": {
      "text/plain": "tensor(-3.)"
     },
     "execution_count": 141,
     "metadata": {},
     "output_type": "execute_result"
    }
   ],
   "source": [
    "# Ans 1\n",
    "torch.trace(A_p)"
   ],
   "metadata": {
    "collapsed": false,
    "ExecuteTime": {
     "start_time": "2023-04-19T02:37:48.523479Z",
     "end_time": "2023-04-19T02:37:48.545585Z"
    }
   }
  },
  {
   "cell_type": "code",
   "execution_count": 142,
   "outputs": [
    {
     "data": {
      "text/plain": "tensor(9.5917)"
     },
     "execution_count": 142,
     "metadata": {},
     "output_type": "execute_result"
    }
   ],
   "source": [
    "torch.trace(torch.matmul(A_p, A_p.T))**(1/2)"
   ],
   "metadata": {
    "collapsed": false,
    "ExecuteTime": {
     "start_time": "2023-04-19T02:39:40.973244Z",
     "end_time": "2023-04-19T02:39:41.049028Z"
    }
   }
  },
  {
   "cell_type": "code",
   "execution_count": 143,
   "outputs": [
    {
     "data": {
      "text/plain": "tensor(9.5917)"
     },
     "execution_count": 143,
     "metadata": {},
     "output_type": "execute_result"
    }
   ],
   "source": [
    "torch.linalg.norm(A_p)"
   ],
   "metadata": {
    "collapsed": false,
    "ExecuteTime": {
     "start_time": "2023-04-19T02:41:36.175598Z",
     "end_time": "2023-04-19T02:41:36.247161Z"
    }
   }
  },
  {
   "cell_type": "code",
   "execution_count": 148,
   "outputs": [
    {
     "data": {
      "text/plain": "9.591663046625438"
     },
     "execution_count": 148,
     "metadata": {},
     "output_type": "execute_result"
    }
   ],
   "source": [
    "((-1)**2 + 2**2 + 3**2 + (-2)**2 + 5**2 + 7**2)**(1/2)"
   ],
   "metadata": {
    "collapsed": false,
    "ExecuteTime": {
     "start_time": "2023-04-19T02:43:30.518117Z",
     "end_time": "2023-04-19T02:43:30.540347Z"
    }
   }
  }
 ],
 "metadata": {
  "kernelspec": {
   "display_name": "np-torch-plt-env",
   "language": "python",
   "name": "python3"
  },
  "language_info": {
   "codemirror_mode": {
    "name": "ipython",
    "version": 3
   },
   "file_extension": ".py",
   "mimetype": "text/x-python",
   "name": "python",
   "nbconvert_exporter": "python",
   "pygments_lexer": "ipython3",
   "version": "3.10.10"
  },
  "orig_nbformat": 4
 },
 "nbformat": 4,
 "nbformat_minor": 2
}

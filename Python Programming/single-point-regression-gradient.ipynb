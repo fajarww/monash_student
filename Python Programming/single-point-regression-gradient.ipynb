{
 "cells": [
  {
   "cell_type": "markdown",
   "source": [
    "# Gradient of a Single-Point Regression\n",
    "\n",
    "In this notebook, we calculate the gradient of quadratic cost with respect to a straight-line regression model's parameters.\n",
    "We keep the partial derivatives as possible by limiting the model to handling a single data point."
   ],
   "metadata": {
    "collapsed": false
   }
  },
  {
   "cell_type": "code",
   "execution_count": 1,
   "metadata": {
    "collapsed": true,
    "ExecuteTime": {
     "start_time": "2023-04-28T10:01:10.140130Z",
     "end_time": "2023-04-28T10:01:12.481446Z"
    }
   },
   "outputs": [],
   "source": [
    "import torch"
   ]
  },
  {
   "cell_type": "markdown",
   "source": [
    "Let's use the same data as we did in the Regression in PyTorch notebook as well as for demonstrating the Moore-Penrose Pseudoinverse in the Linear Algebra II notebook:"
   ],
   "metadata": {
    "collapsed": false
   }
  },
  {
   "cell_type": "code",
   "execution_count": 2,
   "outputs": [],
   "source": [
    "xs = torch.tensor([0, 1, 2, 3, 4, 5, 6, 7.])"
   ],
   "metadata": {
    "collapsed": false,
    "ExecuteTime": {
     "start_time": "2023-04-28T10:03:19.527757Z",
     "end_time": "2023-04-28T10:03:19.543503Z"
    }
   }
  },
  {
   "cell_type": "code",
   "execution_count": 3,
   "outputs": [],
   "source": [
    "ys = torch.tensor([1.86, 1.31, .62, .33, .09, -.67, -1.23, -1.37])"
   ],
   "metadata": {
    "collapsed": false,
    "ExecuteTime": {
     "start_time": "2023-04-28T10:03:53.912310Z",
     "end_time": "2023-04-28T10:03:53.943145Z"
    }
   }
  },
  {
   "cell_type": "markdown",
   "source": [
    "The slope of a line is given by y = mx + b:"
   ],
   "metadata": {
    "collapsed": false
   }
  },
  {
   "cell_type": "code",
   "execution_count": 4,
   "outputs": [],
   "source": [
    "def regression(my_x, my_m, my_b):\n",
    "    return my_m * my_x + my_b"
   ],
   "metadata": {
    "collapsed": false,
    "ExecuteTime": {
     "start_time": "2023-04-28T10:04:58.842720Z",
     "end_time": "2023-04-28T10:04:58.864150Z"
    }
   }
  },
  {
   "cell_type": "markdown",
   "source": [
    "Let's initialize m and b with the same \"random\" near-zero values as we did in the Regression in PyTorch notebook:"
   ],
   "metadata": {
    "collapsed": false
   }
  },
  {
   "cell_type": "code",
   "execution_count": 5,
   "outputs": [],
   "source": [
    "m = torch.tensor([0.9]).requires_grad_()"
   ],
   "metadata": {
    "collapsed": false,
    "ExecuteTime": {
     "start_time": "2023-04-28T10:05:51.071379Z",
     "end_time": "2023-04-28T10:05:51.074472Z"
    }
   }
  },
  {
   "cell_type": "code",
   "execution_count": 6,
   "outputs": [],
   "source": [
    "b = torch.tensor([0.1]).requires_grad_()"
   ],
   "metadata": {
    "collapsed": false,
    "ExecuteTime": {
     "start_time": "2023-04-28T10:06:06.929296Z",
     "end_time": "2023-04-28T10:06:06.935528Z"
    }
   }
  },
  {
   "cell_type": "markdown",
   "source": [
    "To keep the partial derivatives as simple as possible, let's move forward with a single instance i from the eight possible data points:"
   ],
   "metadata": {
    "collapsed": false
   }
  },
  {
   "cell_type": "code",
   "execution_count": 7,
   "outputs": [],
   "source": [
    "i = 7\n",
    "x = xs[i]\n",
    "y = ys[i]"
   ],
   "metadata": {
    "collapsed": false,
    "ExecuteTime": {
     "start_time": "2023-04-28T10:06:55.093688Z",
     "end_time": "2023-04-28T10:06:55.125431Z"
    }
   }
  },
  {
   "cell_type": "code",
   "execution_count": 8,
   "outputs": [
    {
     "data": {
      "text/plain": "tensor(7.)"
     },
     "execution_count": 8,
     "metadata": {},
     "output_type": "execute_result"
    }
   ],
   "source": [
    "x"
   ],
   "metadata": {
    "collapsed": false,
    "ExecuteTime": {
     "start_time": "2023-04-28T10:06:57.220115Z",
     "end_time": "2023-04-28T10:06:57.283742Z"
    }
   }
  },
  {
   "cell_type": "code",
   "execution_count": 9,
   "outputs": [
    {
     "data": {
      "text/plain": "tensor(-1.3700)"
     },
     "execution_count": 9,
     "metadata": {},
     "output_type": "execute_result"
    }
   ],
   "source": [
    "y"
   ],
   "metadata": {
    "collapsed": false,
    "ExecuteTime": {
     "start_time": "2023-04-28T10:06:59.219048Z",
     "end_time": "2023-04-28T10:06:59.242945Z"
    }
   }
  },
  {
   "cell_type": "markdown",
   "source": [
    "Step 1: Forward Pass\n",
    "We can flow the scalar tensor x through our regression model to produce yhat, an estimate of y.\n",
    "Prior to any model training, this is an arbitrary estimate:"
   ],
   "metadata": {
    "collapsed": false
   }
  },
  {
   "cell_type": "code",
   "execution_count": 10,
   "outputs": [
    {
     "data": {
      "text/plain": "tensor([6.4000], grad_fn=<AddBackward0>)"
     },
     "execution_count": 10,
     "metadata": {},
     "output_type": "execute_result"
    }
   ],
   "source": [
    "yhat = regression(x, m, b)\n",
    "yhat"
   ],
   "metadata": {
    "collapsed": false,
    "ExecuteTime": {
     "start_time": "2023-04-28T10:08:00.056542Z",
     "end_time": "2023-04-28T10:08:00.111420Z"
    }
   }
  },
  {
   "cell_type": "code",
   "execution_count": null,
   "outputs": [],
   "source": [],
   "metadata": {
    "collapsed": false
   }
  }
 ],
 "metadata": {
  "kernelspec": {
   "display_name": "Python 3",
   "language": "python",
   "name": "python3"
  },
  "language_info": {
   "codemirror_mode": {
    "name": "ipython",
    "version": 2
   },
   "file_extension": ".py",
   "mimetype": "text/x-python",
   "name": "python",
   "nbconvert_exporter": "python",
   "pygments_lexer": "ipython2",
   "version": "2.7.6"
  }
 },
 "nbformat": 4,
 "nbformat_minor": 0
}
